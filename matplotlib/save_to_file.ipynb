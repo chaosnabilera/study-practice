{
 "cells": [
  {
   "cell_type": "code",
   "execution_count": null,
   "metadata": {},
   "outputs": [],
   "source": [
    "#\n",
    "# 사실 저거 말고도 옵션은 되게 많지만 일단 제일 필요한 것 위주로만 정리함\n",
    "# 참조 : https://matplotlib.org/stable/api/_as_gen/matplotlib.pyplot.savefig.html\n",
    "#\n",
    "\n",
    "import matplotlib\n",
    "\n",
    "fname = 'test_output.png' # 파일의 이름\n",
    "format = 'png'            # 이게 없으면 fname을 보고 format을 결정함\n",
    "\n",
    "dpi = 300  # 말그대로 해상도를 dot-per-inch로 표현한 것\n",
    "           # matplotlib.pyplot.figure로 지정하는 사이즈가 inch 단위임\n",
    "\n",
    "matplotlib.pyplot.savefig(fname, format=format, dpi=dpi)"
   ]
  }
 ],
 "metadata": {
  "language_info": {
   "name": "python"
  }
 },
 "nbformat": 4,
 "nbformat_minor": 2
}
