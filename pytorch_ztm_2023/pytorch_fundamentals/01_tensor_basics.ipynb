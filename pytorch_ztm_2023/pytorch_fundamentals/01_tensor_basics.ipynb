{
 "cells": [
  {
   "cell_type": "markdown",
   "metadata": {},
   "source": [
    "# PyTorch Tensor\n",
    "- PyTorch의 가장 기본적인 building block인 Tensor에 대해 간략히 정리한다\n",
    "- Tensor에는 ndim과 shape가 있는데 차이는 이렇다\n",
    "    - ndim  = 말 그대로 dimension이 몇개인가. 따라서 ndim은 single scalar value이다\n",
    "    - shape = 각각의 차원에 몇개의 하위 차원 요소가 들어가 있는가\n",
    "    - 예를 들면 이렇다\n",
    "        - scalar (0D)\n",
    "            - ndim = 0 (하위 차원이 없다) shape = [] (하위 차원이 없다)\n",
    "        - vector (1D)\n",
    "            - 예: [1,2,3,4]\n",
    "            - ndim = 1 (하위 차원은 scalar이고 scalar의 ndim = 0)\n",
    "            - shape = [4] (scalar가 4개 들어가 있음)\n",
    "        - matrix (2D)\n",
    "            - 예: [[1,2],[3,4],[5,6]]\n",
    "            - ndim = 2 (하위 차원은 vector이고 vector의 ndim = 1) \n",
    "            - shape = [3,2] (vector가 3개 있고 각 vector에는 scalar가 2개씩 들어가 있음)\n",
    "\n",
    "- 주로 다음과 같이 variable name이 setting된다 (scalar, vector는 lowercase, matrix, tesnor는 uppercase를 많이 쓰는 모양?)\n",
    "    - scalar : a\n",
    "    - vector : y\n",
    "    - matrix : Q\n",
    "    - tensor : X"
   ]
  },
  {
   "cell_type": "code",
   "execution_count": 2,
   "metadata": {},
   "outputs": [],
   "source": [
    "import torch"
   ]
  },
  {
   "cell_type": "code",
   "execution_count": 16,
   "metadata": {},
   "outputs": [
    {
     "name": "stdout",
     "output_type": "stream",
     "text": [
      "a.ndim = 0    a.shape = torch.Size([])\n",
      "y1.ndim = 1    y1.shape = torch.Size([1])\n",
      "y2.ndim = 1    y2.shape = torch.Size([4])\n"
     ]
    }
   ],
   "source": [
    "# Scalar\n",
    "a = torch.tensor(1)\n",
    "print(f'a.ndim = {a.ndim}    a.shape = {a.shape}')\n",
    "\n",
    "# Vector (1D)\n",
    "y1 = torch.tensor([1]) # Scalar와는 다르다!\n",
    "print(f'y1.ndim = {y1.ndim}    y1.shape = {y1.shape}')\n",
    "\n",
    "y2 = torch.tensor([1,2,3,4])\n",
    "print(f'y2.ndim = {y2.ndim}    y2.shape = {y2.shape}')"
   ]
  },
  {
   "cell_type": "code",
   "execution_count": 17,
   "metadata": {},
   "outputs": [
    {
     "name": "stdout",
     "output_type": "stream",
     "text": [
      "Q1.ndim = 2    Q1.shape = torch.Size([1, 1])\n",
      "Q2.ndim = 2    Q2.shape = torch.Size([3, 2])\n",
      "[0] : tensor([1, 2])\n",
      "[1] : tensor([3, 4])\n",
      "[2] : tensor([5, 6])\n"
     ]
    }
   ],
   "source": [
    "# Matrix (2D)\n",
    "Q1 = torch.tensor([[1]])\n",
    "print(f'Q1.ndim = {Q1.ndim}    Q1.shape = {Q1.shape}')\n",
    "\n",
    "Q2 = torch.tensor([[1,2],[3,4],[5,6]])\n",
    "print(f'Q2.ndim = {Q2.ndim}    Q2.shape = {Q2.shape}')\n",
    "for i, y in enumerate(Q2):\n",
    "    print(f'[{i}] : {y}')"
   ]
  },
  {
   "cell_type": "code",
   "execution_count": 18,
   "metadata": {},
   "outputs": [
    {
     "name": "stdout",
     "output_type": "stream",
     "text": [
      "X1.ndim = 3    X1.shape = torch.Size([1, 1, 1])\n",
      "X2.ndim = 3    X2.shape = torch.Size([2, 2, 2])\n",
      "[0] : tensor([[1, 2],\n",
      "        [3, 4]])\n",
      "[1] : tensor([[5, 6],\n",
      "        [7, 8]])\n"
     ]
    }
   ],
   "source": [
    "# Tensor (ND)\n",
    "X1 = torch.tensor([[[1]]])\n",
    "print(f'X1.ndim = {X1.ndim}    X1.shape = {X1.shape}')\n",
    "\n",
    "X2 = torch.tensor([[[1,2],[3,4]],[[5,6],[7,8]]])\n",
    "print(f'X2.ndim = {X2.ndim}    X2.shape = {X2.shape}')\n",
    "for i,d2 in enumerate(X2):\n",
    "    print(f'[{i}] : {d2}')"
   ]
  },
  {
   "cell_type": "code",
   "execution_count": null,
   "metadata": {},
   "outputs": [],
   "source": []
  }
 ],
 "metadata": {
  "kernelspec": {
   "display_name": "torch",
   "language": "python",
   "name": "python3"
  },
  "language_info": {
   "codemirror_mode": {
    "name": "ipython",
    "version": 3
   },
   "file_extension": ".py",
   "mimetype": "text/x-python",
   "name": "python",
   "nbconvert_exporter": "python",
   "pygments_lexer": "ipython3",
   "version": "3.11.5"
  },
  "orig_nbformat": 4
 },
 "nbformat": 4,
 "nbformat_minor": 2
}
