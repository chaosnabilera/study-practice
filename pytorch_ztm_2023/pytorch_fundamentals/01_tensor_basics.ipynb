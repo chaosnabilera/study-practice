{
 "cells": [
  {
   "cell_type": "markdown",
   "metadata": {},
   "source": [
    "# PyTorch Tensor\n",
    "1. Tensor\n",
    "2. Random tensor\n",
    "3. Zero / One tensor\n",
    "4. arange\n",
    "5. tensors-like\n",
    "6. device, dtype, shape, requires_grad"
   ]
  },
  {
   "cell_type": "markdown",
   "metadata": {},
   "source": [
    "## 1. Tensor\n",
    "- PyTorch의 가장 기본적인 building block\n",
    "- Tensor에는 ndim과 shape가 있는데 차이는 이렇다\n",
    "    - ndim  = 말 그대로 dimension이 몇개인가. 따라서 ndim은 single scalar value이다\n",
    "    - shape = 각각의 차원에 몇개의 하위 차원 요소가 들어가 있는가\n",
    "    - 예를 들면 이렇다\n",
    "        - scalar (0D)\n",
    "            - ndim = 0 (하위 차원이 없다) shape = [] (하위 차원이 없다)\n",
    "        - vector (1D)\n",
    "            - 예: [1,2,3,4]\n",
    "            - ndim = 1 (하위 차원은 scalar이고 scalar의 ndim = 0)\n",
    "            - shape = [4] (scalar가 4개 들어가 있음)\n",
    "        - matrix (2D)\n",
    "            - 예: [[1,2],[3,4],[5,6]]\n",
    "            - ndim = 2 (하위 차원은 vector이고 vector의 ndim = 1) \n",
    "            - shape = [3,2] (vector가 3개 있고 각 vector에는 scalar가 2개씩 들어가 있음)\n",
    "\n",
    "- 주로 다음과 같이 variable name이 setting된다 (scalar, vector는 lowercase, matrix, tesnor는 uppercase를 많이 쓰는 모양?)\n",
    "    - scalar : a\n",
    "    - vector : y\n",
    "    - matrix : Q\n",
    "    - tensor : X\n",
    "\n",
    "- dtype은 Tensor에 들어있는 scalar의 type을 결정한다. default는 torch.float32\n",
    "    - dtype으로 지정도 가능 (아래 참조)"
   ]
  },
  {
   "cell_type": "code",
   "execution_count": 1,
   "metadata": {},
   "outputs": [],
   "source": [
    "import torch"
   ]
  },
  {
   "cell_type": "code",
   "execution_count": 2,
   "metadata": {},
   "outputs": [
    {
     "name": "stdout",
     "output_type": "stream",
     "text": [
      "a.ndim = 0    a.shape = torch.Size([])\n",
      "y1.ndim = 1    y1.shape = torch.Size([1])\n",
      "y2.ndim = 1    y2.shape = torch.Size([4])\n"
     ]
    }
   ],
   "source": [
    "# Scalar\n",
    "a = torch.tensor(1)\n",
    "print(f'a.ndim = {a.ndim}    a.shape = {a.shape}')\n",
    "\n",
    "# Vector (1D)\n",
    "y1 = torch.tensor([1]) # Scalar와는 다르다!\n",
    "print(f'y1.ndim = {y1.ndim}    y1.shape = {y1.shape}')\n",
    "\n",
    "y2 = torch.tensor([1,2,3,4])\n",
    "print(f'y2.ndim = {y2.ndim}    y2.shape = {y2.shape}')"
   ]
  },
  {
   "cell_type": "code",
   "execution_count": 3,
   "metadata": {},
   "outputs": [
    {
     "name": "stdout",
     "output_type": "stream",
     "text": [
      "Q1.ndim = 2    Q1.shape = torch.Size([1, 1])\n",
      "Q2.ndim = 2    Q2.shape = torch.Size([3, 2])\n",
      "[0] : tensor([1, 2])\n",
      "[1] : tensor([3, 4])\n",
      "[2] : tensor([5, 6])\n"
     ]
    }
   ],
   "source": [
    "# Matrix (2D)\n",
    "Q1 = torch.tensor([[1]])\n",
    "print(f'Q1.ndim = {Q1.ndim}    Q1.shape = {Q1.shape}')\n",
    "\n",
    "Q2 = torch.tensor([[1,2],[3,4],[5,6]])\n",
    "print(f'Q2.ndim = {Q2.ndim}    Q2.shape = {Q2.shape}')\n",
    "for i, y in enumerate(Q2):\n",
    "    print(f'[{i}] : {y}')"
   ]
  },
  {
   "cell_type": "code",
   "execution_count": 4,
   "metadata": {},
   "outputs": [
    {
     "name": "stdout",
     "output_type": "stream",
     "text": [
      "X1.ndim = 3    X1.shape = torch.Size([1, 1, 1])\n",
      "X2.ndim = 3    X2.shape = torch.Size([2, 2, 2])\n",
      "[0] : tensor([[1, 2],\n",
      "        [3, 4]])\n",
      "[1] : tensor([[5, 6],\n",
      "        [7, 8]])\n"
     ]
    }
   ],
   "source": [
    "# Tensor (ND)\n",
    "X1 = torch.tensor([[[1]]])\n",
    "print(f'X1.ndim = {X1.ndim}    X1.shape = {X1.shape}')\n",
    "\n",
    "X2 = torch.tensor([[[1,2],[3,4]],[[5,6],[7,8]]])\n",
    "print(f'X2.ndim = {X2.ndim}    X2.shape = {X2.shape}')\n",
    "for i,d2 in enumerate(X2):\n",
    "    print(f'[{i}] : {d2}')"
   ]
  },
  {
   "cell_type": "code",
   "execution_count": 5,
   "metadata": {},
   "outputs": [
    {
     "name": "stdout",
     "output_type": "stream",
     "text": [
      "tensor([[1, 2],\n",
      "        [3, 4]])\n",
      "torch.int64\n",
      "tensor([[1., 2.],\n",
      "        [3., 4.]])\n",
      "torch.float32\n",
      "tensor([[1., 2.],\n",
      "        [3., 4.]], dtype=torch.float16)\n",
      "torch.float16\n"
     ]
    }
   ],
   "source": [
    "# dtype\n",
    "Q1 = torch.tensor([[1,2],[3,4]])\n",
    "print(Q1)\n",
    "print(Q1.dtype)\n",
    "\n",
    "Q2 = torch.tensor([[1.0,2.0],[3.0,4.0]])\n",
    "print(Q2)\n",
    "print(Q2.dtype)\n",
    "\n",
    "Q3 = torch.tensor([[1,2],[3,4]], dtype=torch.float16)\n",
    "print(Q3)\n",
    "print(Q3.dtype)"
   ]
  },
  {
   "cell_type": "markdown",
   "metadata": {},
   "source": [
    "## 2. Random Tensor\n",
    "- torch.rand\n",
    "    - uniform distribution on the interval `[0,1)` 을 만든다\n",
    "    - 기본적으로 shape을 지정해 주면 됨\n",
    "    - 더 자세한 것은 다음을 참고 : https://pytorch.org/docs/stable/generated/torch.rand.html"
   ]
  },
  {
   "cell_type": "code",
   "execution_count": 6,
   "metadata": {},
   "outputs": [
    {
     "name": "stdout",
     "output_type": "stream",
     "text": [
      "tensor([[[[0.4317, 0.5073, 0.8773],\n",
      "          [0.2286, 0.5672, 0.4344],\n",
      "          [0.8892, 0.6132, 0.0783]],\n",
      "\n",
      "         [[0.3691, 0.3377, 0.8720],\n",
      "          [0.8989, 0.8509, 0.1463],\n",
      "          [0.5764, 0.1102, 0.3394]],\n",
      "\n",
      "         [[0.1773, 0.3162, 0.6467],\n",
      "          [0.1458, 0.8761, 0.9501],\n",
      "          [0.9868, 0.3272, 0.4622]]],\n",
      "\n",
      "\n",
      "        [[[0.8220, 0.3400, 0.4744],\n",
      "          [0.9419, 0.1344, 0.9929],\n",
      "          [0.7756, 0.6308, 0.2709]],\n",
      "\n",
      "         [[0.5790, 0.0791, 0.7402],\n",
      "          [0.5914, 0.3827, 0.2002],\n",
      "          [0.8753, 0.8205, 0.6569]],\n",
      "\n",
      "         [[0.4495, 0.5649, 0.1459],\n",
      "          [0.6533, 0.9138, 0.1146],\n",
      "          [0.5521, 0.9185, 0.4815]]],\n",
      "\n",
      "\n",
      "        [[[0.0204, 0.1684, 0.5822],\n",
      "          [0.0188, 0.1112, 0.1175],\n",
      "          [0.7254, 0.0729, 0.7871]],\n",
      "\n",
      "         [[0.2939, 0.1804, 0.6919],\n",
      "          [0.5434, 0.5970, 0.6286],\n",
      "          [0.3583, 0.6227, 0.8340]],\n",
      "\n",
      "         [[0.2224, 0.1572, 0.4092],\n",
      "          [0.2197, 0.6753, 0.2181],\n",
      "          [0.3632, 0.3572, 0.9878]]]])\n",
      "tensor([[0.7488, 0.4095, 0.9593, 0.7246],\n",
      "        [0.6659, 0.9044, 0.8931, 0.8122],\n",
      "        [0.5713, 0.1131, 0.9844, 0.2817],\n",
      "        [0.9068, 0.7497, 0.6024, 0.1124]])\n"
     ]
    }
   ],
   "source": [
    "import torch\n",
    "\n",
    "Q1 = torch.rand(3,3,3,3)\n",
    "print(Q1)\n",
    "\n",
    "Q2 = torch.rand(size=(4,4)) # size를 명시적으로 넣을 수도 있다. 안 넣으면 default로 위와 같이 행동함\n",
    "print(Q2)"
   ]
  },
  {
   "cell_type": "markdown",
   "metadata": {},
   "source": [
    "## 3. Zeros and Ones\n",
    "- (토막상식) Zeroes가 아님\n",
    "    - Noun Zero의 plural form은 Zeros임\n",
    "    - \"to zero\"할 때의 zero, 즉 verb인 zero의 3인칭 단수 가 zeroes임"
   ]
  },
  {
   "cell_type": "code",
   "execution_count": 7,
   "metadata": {},
   "outputs": [
    {
     "name": "stdout",
     "output_type": "stream",
     "text": [
      "tensor([[0., 0., 0., 0.],\n",
      "        [0., 0., 0., 0.],\n",
      "        [0., 0., 0., 0.],\n",
      "        [0., 0., 0., 0.]])\n",
      "tensor([[0., 0., 0.],\n",
      "        [0., 0., 0.],\n",
      "        [0., 0., 0.]])\n"
     ]
    }
   ],
   "source": [
    "Qz1 = torch.zeros(size=(4,4))\n",
    "Qz2 = torch.zeros(3,3)\n",
    "\n",
    "print(Qz1)\n",
    "print(Qz2)"
   ]
  },
  {
   "cell_type": "code",
   "execution_count": 8,
   "metadata": {},
   "outputs": [
    {
     "name": "stdout",
     "output_type": "stream",
     "text": [
      "tensor([[1., 1., 1., 1.],\n",
      "        [1., 1., 1., 1.],\n",
      "        [1., 1., 1., 1.],\n",
      "        [1., 1., 1., 1.]])\n",
      "tensor([[1., 1., 1.],\n",
      "        [1., 1., 1.],\n",
      "        [1., 1., 1.]])\n"
     ]
    }
   ],
   "source": [
    "Qo1 = torch.ones(size=(4,4))\n",
    "Qo2 = torch.ones(3,3)\n",
    "\n",
    "print(Qo1)\n",
    "print(Qo2)"
   ]
  },
  {
   "cell_type": "markdown",
   "metadata": {},
   "source": [
    "### 4. arange\n",
    "- range 도 있는데 이걸 쓰면 deprecation warning이 뜬다\n",
    "    - `torch.range is deprecated and will be removed in a future release because its behavior is inconsistent with Python's range builtin. Instead, use torch.arange, which produces values in [start, end)`\n",
    "    - 대략 range가 python의 range와는 달리 `[start,end]`로 작동하니 inconsistent해서 python과 consistent한 arange를 쓰자라는 이야기\n",
    "- start, end, step을 정할 수 있음"
   ]
  },
  {
   "cell_type": "code",
   "execution_count": 9,
   "metadata": {},
   "outputs": [
    {
     "name": "stdout",
     "output_type": "stream",
     "text": [
      "tensor([0, 1, 2, 3, 4, 5, 6, 7, 8, 9])\n",
      "tensor([0, 1, 2, 3, 4, 5, 6, 7, 8, 9])\n",
      "tensor([ 0,  2,  4,  6,  8, 10, 12, 14, 16, 18])\n"
     ]
    }
   ],
   "source": [
    "print(torch.arange(0,10))\n",
    "print(torch.arange(start=0, end=10))\n",
    "print(torch.arange(start=0, end=20, step=2))"
   ]
  },
  {
   "cell_type": "markdown",
   "metadata": {},
   "source": [
    "## like\n",
    "- rand_like, zeros_like, ones_like\n",
    "- dtype도 똑같이 따라감"
   ]
  },
  {
   "cell_type": "code",
   "execution_count": 10,
   "metadata": {},
   "outputs": [
    {
     "name": "stdout",
     "output_type": "stream",
     "text": [
      "tensor([[0.9424, 0.6636, 0.1563],\n",
      "        [0.5673, 0.7983, 0.2082],\n",
      "        [0.7639, 0.8822, 0.8058]])\n",
      "2 torch.Size([3, 3]) torch.float32\n",
      "tensor([[0.2325, 0.6448, 0.9592],\n",
      "        [0.7342, 0.0809, 0.0845],\n",
      "        [0.4493, 0.0617, 0.2776]])\n",
      "2 torch.Size([3, 3]) torch.float32\n",
      "tensor([[0., 0., 0.],\n",
      "        [0., 0., 0.],\n",
      "        [0., 0., 0.]])\n",
      "2 torch.Size([3, 3]) torch.float32\n",
      "tensor([[1., 1., 1.],\n",
      "        [1., 1., 1.],\n",
      "        [1., 1., 1.]])\n",
      "2 torch.Size([3, 3]) torch.float32\n"
     ]
    }
   ],
   "source": [
    "Q = torch.rand(size=(3,3))\n",
    "print(Q)\n",
    "print(Q.ndim, Q.shape, Q.dtype)\n",
    "\n",
    "Qr = torch.rand_like(Q)\n",
    "print(Qr)\n",
    "print(Qr.ndim, Qr.shape, Qr.dtype)\n",
    "\n",
    "Qz = torch.zeros_like(Q)\n",
    "print(Qz)\n",
    "print(Qz.ndim, Qz.shape, Qz.dtype)\n",
    "\n",
    "Qo= torch.ones_like(Q)\n",
    "print(Qo)\n",
    "print(Qo.ndim, Qo.shape, Qo.dtype)"
   ]
  },
  {
   "cell_type": "code",
   "execution_count": 11,
   "metadata": {},
   "outputs": [
    {
     "name": "stdout",
     "output_type": "stream",
     "text": [
      "tensor([[0.4258, 0.7847, 0.7065],\n",
      "        [0.6743, 0.9429, 0.6064],\n",
      "        [0.9893, 0.6870, 0.0215]], dtype=torch.float16)\n",
      "2 torch.Size([3, 3]) torch.float16\n",
      "tensor([[0.8262, 0.9092, 0.6108],\n",
      "        [0.1416, 0.9092, 0.1992],\n",
      "        [0.2549, 0.0757, 0.0962]], dtype=torch.float16)\n",
      "2 torch.Size([3, 3]) torch.float16\n",
      "tensor([[0., 0., 0.],\n",
      "        [0., 0., 0.],\n",
      "        [0., 0., 0.]], dtype=torch.float16)\n",
      "2 torch.Size([3, 3]) torch.float16\n",
      "tensor([[1., 1., 1.],\n",
      "        [1., 1., 1.],\n",
      "        [1., 1., 1.]], dtype=torch.float16)\n",
      "2 torch.Size([3, 3]) torch.float16\n"
     ]
    }
   ],
   "source": [
    "Q = torch.rand(size=(3,3), dtype=torch.float16)\n",
    "print(Q)\n",
    "print(Q.ndim, Q.shape, Q.dtype)\n",
    "\n",
    "Qr = torch.rand_like(Q)\n",
    "print(Qr)\n",
    "print(Qr.ndim, Qr.shape, Qr.dtype)\n",
    "\n",
    "Qz = torch.zeros_like(Q)\n",
    "print(Qz)\n",
    "print(Qz.ndim, Qz.shape, Qz.dtype)\n",
    "\n",
    "Qo= torch.ones_like(Q)\n",
    "print(Qo)\n",
    "print(Qo.ndim, Qo.shape, Qo.dtype)"
   ]
  },
  {
   "cell_type": "markdown",
   "metadata": {},
   "source": [
    "## device, dtype, shape, requires_grad\n",
    "- Tensor에서 가장 많이 겪는 문제 3가지는 이렇다\n",
    "    - Tensor shape가 서로 안맞아서 연산이 안됨\n",
    "    - dtype을 잘못 지정해서 너무 느림 / 너무 정확도가 낮음\n",
    "        - 서로 다른 type을 가지고 operation을 할 때 형변환은 자동으로 해 주는 듯? C와 비슷하게 더 큰 타입 우선, float 우선으로 해 주는 듯\n",
    "    - device를 잘못 지정해서 같이 연산이 안됨 / 너무 느림\n",
    "- device는 기본 cpu다\n",
    "    - `torch.set_default_device`를 사용하면 CUDA로 지정할 수 있다\n",
    "- requires_grad\n",
    "    - 이 Tensor에 대해 gradient를 track할 것인지 여부를 정하는 부분이다\n",
    "    - keras에서는 gradient tape이나 trainable같은 bool을 조작했는데 여기서는 Tensor단위로 조작하는 구나"
   ]
  },
  {
   "cell_type": "code",
   "execution_count": 12,
   "metadata": {},
   "outputs": [
    {
     "name": "stdout",
     "output_type": "stream",
     "text": [
      "cpu\n",
      "cuda:0\n",
      "cuda:0\n"
     ]
    }
   ],
   "source": [
    "# Jupyter notebook을 restart하고 Run All해야 원래 의도대로 나옴\n",
    "\n",
    "Q = torch.rand(size=(3,3))\n",
    "print(Q.device) # cpu\n",
    "\n",
    "Q = torch.rand(size=(3,3), device='cuda')\n",
    "print(Q.device) # cuda\n",
    "\n",
    "torch.set_default_device('cuda')\n",
    "Q = torch.rand(size=(3,3))\n",
    "print(Q.device) # cuda"
   ]
  },
  {
   "cell_type": "code",
   "execution_count": 13,
   "metadata": {},
   "outputs": [
    {
     "name": "stdout",
     "output_type": "stream",
     "text": [
      "tensor([[0.5229, 0.6592, 0.0643],\n",
      "        [0.2134, 0.1534, 0.5308],\n",
      "        [0.7588, 0.9341, 0.5630]], device='cuda:0', dtype=torch.float16)\n",
      "tensor([[0.9879, 0.9446, 0.2228],\n",
      "        [0.5277, 0.0601, 0.7846],\n",
      "        [0.8423, 0.2141, 0.8168]], device='cuda:0')\n",
      "tensor([[0.5166, 0.6227, 0.0143],\n",
      "        [0.1126, 0.0092, 0.4164],\n",
      "        [0.6391, 0.2000, 0.4599]], device='cuda:0')\n",
      "torch.float32\n"
     ]
    }
   ],
   "source": [
    "Q1 = torch.rand(size=(3,3), dtype=torch.float16)\n",
    "print(Q1)\n",
    "Q2 = torch.rand(size=(3,3), dtype=torch.float32)\n",
    "print(Q2)\n",
    "\n",
    "Q3 = Q1 * Q2\n",
    "\n",
    "print(Q3)\n",
    "print(Q3.dtype) # C처럼 자동으로 더 큰 타입으로 바꿔줌"
   ]
  },
  {
   "cell_type": "code",
   "execution_count": null,
   "metadata": {},
   "outputs": [],
   "source": []
  }
 ],
 "metadata": {
  "kernelspec": {
   "display_name": "torch",
   "language": "python",
   "name": "python3"
  },
  "language_info": {
   "codemirror_mode": {
    "name": "ipython",
    "version": 3
   },
   "file_extension": ".py",
   "mimetype": "text/x-python",
   "name": "python",
   "nbconvert_exporter": "python",
   "pygments_lexer": "ipython3",
   "version": "3.11.5"
  },
  "orig_nbformat": 4
 },
 "nbformat": 4,
 "nbformat_minor": 2
}
