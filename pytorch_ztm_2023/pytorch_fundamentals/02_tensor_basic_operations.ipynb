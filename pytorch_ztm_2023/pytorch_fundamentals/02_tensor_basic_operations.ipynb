{
 "cells": [
  {
   "cell_type": "markdown",
   "metadata": {},
   "source": [
    "## Tensor basic operations\n",
    "- Addition (+)\n",
    "- Subtraction (-)\n",
    "- Division (/,//)\n",
    "    - python과 마찬가지로 float division인 `/`와 integer division인 `//`가 나뉘어 구현되어 있다\n",
    "- Element-wise multiplication (*)\n",
    "    - Tensor의 각각의 값을 특정 scalar와 곱한다\n",
    "    - 또는 두 Tensor의 같은 위치에 있는 각각의 element를 서로 곱한다 (아래 코드 참조)\n",
    "- Matrix multiplication (@)\n",
    "    - 두 vector (1-dim)에 대해 하면 dot product를 해준다\n",
    "    - 그외의 경우엔 서로 shape이 맞아야 (NxM,MxN) 해준다\n",
    "    - matmul, mm 으로도 같은걸 할 수 있음\n",
    "    - `.transpose`,`.t`,`.T`로 transpose도 할 수 있다"
   ]
  },
  {
   "cell_type": "code",
   "execution_count": 1,
   "metadata": {},
   "outputs": [],
   "source": [
    "import torch"
   ]
  },
  {
   "cell_type": "code",
   "execution_count": 2,
   "metadata": {},
   "outputs": [
    {
     "name": "stdout",
     "output_type": "stream",
     "text": [
      "<Addition>\n",
      "X1\n",
      "tensor([[[0.9527, 0.6189],\n",
      "         [0.5519, 0.3559]],\n",
      "\n",
      "        [[0.9320, 0.1105],\n",
      "         [0.0672, 0.7335]]])\n",
      "X1 + 10\n",
      "tensor([[[10.9527, 10.6189],\n",
      "         [10.5519, 10.3559]],\n",
      "\n",
      "        [[10.9320, 10.1105],\n",
      "         [10.0672, 10.7335]]])\n"
     ]
    }
   ],
   "source": [
    "print('<Addition>')\n",
    "\n",
    "X1 = torch.rand(2,2,2)\n",
    "print('X1')\n",
    "print(X1)\n",
    "\n",
    "print('X1 + 10')\n",
    "X1 = X1 + 10\n",
    "print(X1)"
   ]
  },
  {
   "cell_type": "code",
   "execution_count": 3,
   "metadata": {},
   "outputs": [
    {
     "name": "stdout",
     "output_type": "stream",
     "text": [
      "<Subtraction>\n",
      "X1\n",
      "tensor([[[0.8646, 0.5822],\n",
      "         [0.4823, 0.5258]],\n",
      "\n",
      "        [[0.2733, 0.1181],\n",
      "         [0.7894, 0.2092]]])\n",
      "X1 - 1\n",
      "tensor([[[-0.1354, -0.4178],\n",
      "         [-0.5177, -0.4742]],\n",
      "\n",
      "        [[-0.7267, -0.8819],\n",
      "         [-0.2106, -0.7908]]])\n"
     ]
    }
   ],
   "source": [
    "print('<Subtraction>')\n",
    "\n",
    "X1 = torch.rand(2,2,2)\n",
    "print('X1')\n",
    "print(X1)\n",
    "\n",
    "print('X1 - 1')\n",
    "X1 = X1 - 1\n",
    "print(X1)"
   ]
  },
  {
   "cell_type": "code",
   "execution_count": 4,
   "metadata": {},
   "outputs": [
    {
     "name": "stdout",
     "output_type": "stream",
     "text": [
      "<Division>\n",
      "X1\n",
      "tensor([[[0.1428, 0.9903],\n",
      "         [0.0317, 0.0202]],\n",
      "\n",
      "        [[0.5242, 0.3070],\n",
      "         [0.2231, 0.5632]]])\n",
      "X1 / 10\n",
      "tensor([[[0.0143, 0.0990],\n",
      "         [0.0032, 0.0020]],\n",
      "\n",
      "        [[0.0524, 0.0307],\n",
      "         [0.0223, 0.0563]]])\n",
      "\n",
      "y1 : tensor([11, 12, 13])\n",
      "y1 / 10 : tensor([1.1000, 1.2000, 1.3000])\n",
      "y1 // 10 : tensor([1, 1, 1])\n"
     ]
    }
   ],
   "source": [
    "print('<Division>')\n",
    "\n",
    "X1 = torch.rand(2,2,2)\n",
    "print('X1')\n",
    "print(X1)\n",
    "\n",
    "print('X1 / 10')\n",
    "X1 = X1 / 10\n",
    "print(X1)\n",
    "print()\n",
    "\n",
    "y1 = torch.tensor([11,12,13])\n",
    "print(f'y1 : {y1}')\n",
    "print(f'y1 / 10 : {y1 / 10}')\n",
    "print(f'y1 // 10 : {y1 // 10}')\n"
   ]
  },
  {
   "cell_type": "code",
   "execution_count": 5,
   "metadata": {},
   "outputs": [
    {
     "name": "stdout",
     "output_type": "stream",
     "text": [
      "<Element-wise multiplication>\n",
      "<Multiply by scalar>\n",
      "X1\n",
      "tensor([[[0.8787, 0.5548],\n",
      "         [0.5444, 0.6892]],\n",
      "\n",
      "        [[0.5520, 0.0397],\n",
      "         [0.1061, 0.9507]]])\n",
      "X1 * 10\n",
      "tensor([[[8.7865, 5.5476],\n",
      "         [5.4441, 6.8919]],\n",
      "\n",
      "        [[5.5205, 0.3969],\n",
      "         [1.0610, 9.5066]]])\n",
      "\n",
      "<Multiply by vector>\n",
      "X2: tensor([1, 2, 3])\n",
      "X3: tensor([3, 4, 5])\n",
      "X2 * X3: tensor([ 3,  8, 15])\n"
     ]
    }
   ],
   "source": [
    "print('<Element-wise multiplication>')\n",
    "print('<Multiply by scalar>')\n",
    "X1 = torch.rand(2,2,2)\n",
    "print('X1')\n",
    "print(X1)\n",
    "\n",
    "print('X1 * 10')\n",
    "X1 = X1 * 10\n",
    "print(X1)\n",
    "print()\n",
    "\n",
    "print('<Multiply by vector>')\n",
    "X2 = torch.tensor([1,2,3])\n",
    "X3 = torch.tensor([3,4,5])\n",
    "print(f'X2: {X2}')\n",
    "print(f'X3: {X3}')\n",
    "print(f'X2 * X3: {X2 * X3}')"
   ]
  },
  {
   "cell_type": "code",
   "execution_count": 6,
   "metadata": {},
   "outputs": [
    {
     "name": "stdout",
     "output_type": "stream",
     "text": [
      "<Matrix multiplication> (dot product)\n",
      "X1\n",
      "tensor([[0.7341, 0.5585],\n",
      "        [0.0465, 0.5633]])\n",
      "X2\n",
      "tensor([[0.2650, 0.7138],\n",
      "        [0.0730, 0.2322]])\n",
      "X1 @ X2\n",
      "tensor([[0.2353, 0.6537],\n",
      "        [0.0535, 0.1640]])\n",
      "where:\n",
      "\t0.7341*0.2650 + 0.5585*0.0730 = 0.2353\n",
      "\n",
      "- dot product of 2 vectors\n",
      "y1: tensor([1, 2, 3])\n",
      "y2: tensor([3, 4, 5])\n",
      "y1 @ y2: 26\n"
     ]
    }
   ],
   "source": [
    "print('<Matrix multiplication> (dot product)')\n",
    "X1 = torch.rand(2,2)\n",
    "print('X1')\n",
    "print(X1)\n",
    "\n",
    "X2 = torch.rand(2,2)\n",
    "print('X2')\n",
    "print(X2)\n",
    "\n",
    "print('X1 @ X2')\n",
    "X3 = X1 @ X2\n",
    "print(X3)\n",
    "\n",
    "print('where:')\n",
    "print(f'\\t{X1[0][0]:.4f}*{X2[0][0]:.4f} + {X1[0][1]:.4f}*{X2[1][0]:.4f} = {X1[0][0]*X2[0][0] + X1[0][1]*X2[1][0]:.4f}')\n",
    "print()\n",
    "\n",
    "print('- dot product of 2 vectors')\n",
    "y1 = torch.tensor([1,2,3])\n",
    "y2 = torch.tensor([3,4,5])\n",
    "print(f'y1: {y1}')\n",
    "print(f'y2: {y2}')\n",
    "print(f'y1 @ y2: {y1 @ y2}')"
   ]
  },
  {
   "cell_type": "code",
   "execution_count": 8,
   "metadata": {},
   "outputs": [
    {
     "name": "stdout",
     "output_type": "stream",
     "text": [
      "X1\n",
      "tensor([[0.3924, 0.1745],\n",
      "        [0.9665, 0.1564]])\n",
      "X2\n",
      "tensor([[0.6141, 0.4488],\n",
      "        [0.8761, 0.4059]])\n",
      "torch.matmul(X1,X2)\n",
      "tensor([[0.3939, 0.2470],\n",
      "        [0.7306, 0.4972]])\n",
      "where:\n",
      "\t0.3924*0.6141 + 0.1745*0.8761 = 0.3939\n",
      "\n"
     ]
    }
   ],
   "source": [
    "# torch.matmul\n",
    "X1 = torch.rand(2,2)\n",
    "print('X1')\n",
    "print(X1)\n",
    "\n",
    "X2 = torch.rand(2,2)\n",
    "print('X2')\n",
    "print(X2)\n",
    "\n",
    "print('torch.matmul(X1,X2)')\n",
    "X3 = torch.matmul(X1, X2)\n",
    "print(X3)\n",
    "\n",
    "print('where:')\n",
    "print(f'\\t{X1[0][0]:.4f}*{X2[0][0]:.4f} + {X1[0][1]:.4f}*{X2[1][0]:.4f} = {X1[0][0]*X2[0][0] + X1[0][1]*X2[1][0]:.4f}')\n",
    "print()"
   ]
  },
  {
   "cell_type": "code",
   "execution_count": 9,
   "metadata": {},
   "outputs": [
    {
     "name": "stdout",
     "output_type": "stream",
     "text": [
      "X1\n",
      "tensor([[0.0704, 0.8593],\n",
      "        [0.1343, 0.3382]])\n",
      "X2\n",
      "tensor([[0.2065, 0.0426],\n",
      "        [0.2471, 0.0582]])\n",
      "torch.mm(X1,X2)\n",
      "tensor([[0.2269, 0.0530],\n",
      "        [0.1113, 0.0254]])\n",
      "where:\n",
      "\t0.0704*0.2065 + 0.8593*0.2471 = 0.2269\n",
      "\n"
     ]
    }
   ],
   "source": [
    "# torch.mm\n",
    "X1 = torch.rand(2,2)\n",
    "print('X1')\n",
    "print(X1)\n",
    "\n",
    "X2 = torch.rand(2,2)\n",
    "print('X2')\n",
    "print(X2)\n",
    "\n",
    "print('torch.mm(X1,X2)')\n",
    "X3 = torch.mm(X1, X2)\n",
    "print(X3)\n",
    "\n",
    "print('where:')\n",
    "print(f'\\t{X1[0][0]:.4f}*{X2[0][0]:.4f} + {X1[0][1]:.4f}*{X2[1][0]:.4f} = {X1[0][0]*X2[0][0] + X1[0][1]*X2[1][0]:.4f}')\n",
    "print()"
   ]
  },
  {
   "cell_type": "code",
   "execution_count": 14,
   "metadata": {},
   "outputs": [
    {
     "name": "stdout",
     "output_type": "stream",
     "text": [
      "X1\n",
      "tensor([[0.4150, 0.6268],\n",
      "        [0.4554, 0.7195],\n",
      "        [0.5823, 0.1356]])\n",
      "X1.transpose\n",
      "tensor([[0.4150, 0.4554, 0.5823],\n",
      "        [0.6268, 0.7195, 0.1356]])\n",
      "X1.t\n",
      "tensor([[0.4150, 0.4554, 0.5823],\n",
      "        [0.6268, 0.7195, 0.1356]])\n",
      "X1.T\n",
      "tensor([[0.4150, 0.4554, 0.5823],\n",
      "        [0.6268, 0.7195, 0.1356]])\n"
     ]
    }
   ],
   "source": [
    "# transpose\n",
    "\n",
    "X1 = torch.rand(3,2)\n",
    "print('X1')\n",
    "print(X1)\n",
    "\n",
    "# torch.transpose\n",
    "# Returns a tensor that is a transposed version of input. The given dimensions dim0 and dim1 are swapped.\n",
    "X1_t = X1.transpose(0,1)\n",
    "print('X1.transpose')\n",
    "print(X1_t)\n",
    "\n",
    "# torch.t\n",
    "# Expects input to be <= 2-D tensor and transposes dimensions 0 and 1.\n",
    "X1_t = X1.t()\n",
    "print('X1.t')\n",
    "print(X1_t)\n",
    "\n",
    "X1_t = X1.T\n",
    "print('X1.T')\n",
    "print(X1_t)"
   ]
  },
  {
   "cell_type": "code",
   "execution_count": 36,
   "metadata": {},
   "outputs": [
    {
     "name": "stdout",
     "output_type": "stream",
     "text": [
      "X1\n",
      "tensor([[0.7290, 0.7775],\n",
      "        [0.9486, 0.7516],\n",
      "        [0.1811, 0.5962]])\n",
      "X1.mean()\n",
      "tensor(0.6640)\n",
      "X1.sum()\n",
      "tensor(3.9840)\n"
     ]
    }
   ],
   "source": [
    "# mean, sum\n",
    "X1 = torch.rand(3,2)\n",
    "print('X1')\n",
    "print(X1)\n",
    "\n",
    "print('X1.mean()')\n",
    "print(X1.mean())\n",
    "\n",
    "print('X1.sum()')\n",
    "print(X1.sum())"
   ]
  },
  {
   "cell_type": "code",
   "execution_count": null,
   "metadata": {},
   "outputs": [],
   "source": []
  }
 ],
 "metadata": {
  "kernelspec": {
   "display_name": "torch",
   "language": "python",
   "name": "python3"
  },
  "language_info": {
   "codemirror_mode": {
    "name": "ipython",
    "version": 3
   },
   "file_extension": ".py",
   "mimetype": "text/x-python",
   "name": "python",
   "nbconvert_exporter": "python",
   "pygments_lexer": "ipython3",
   "version": "3.11.5"
  }
 },
 "nbformat": 4,
 "nbformat_minor": 2
}
