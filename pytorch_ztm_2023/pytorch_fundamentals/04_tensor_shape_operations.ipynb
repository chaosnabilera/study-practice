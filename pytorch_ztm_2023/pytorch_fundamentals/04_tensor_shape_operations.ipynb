{
 "cells": [
  {
   "cell_type": "markdown",
   "metadata": {},
   "source": [
    "# Tensor shape operations\n",
    "- reshape\n",
    "- view\n",
    "- stack\n",
    "- squeeze\n",
    "- unsqueeze\n",
    "- permute"
   ]
  },
  {
   "cell_type": "code",
   "execution_count": null,
   "metadata": {},
   "outputs": [],
   "source": []
  }
 ],
 "metadata": {
  "language_info": {
   "name": "python"
  }
 },
 "nbformat": 4,
 "nbformat_minor": 2
}
