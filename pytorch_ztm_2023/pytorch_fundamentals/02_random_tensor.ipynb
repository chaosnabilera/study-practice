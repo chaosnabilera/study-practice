{
 "cells": [
  {
   "cell_type": "markdown",
   "metadata": {},
   "source": [
    "# Random Tensor 만들기\n",
    "- torch.rand\n",
    "    - uniform distribution on the interval `[0,1)` 을 만든다\n",
    "    - 기본적으로 shape을 지정해 주면 됨\n",
    "    - 더 자세한 것은 다음을 참고 : https://pytorch.org/docs/stable/generated/torch.rand.html"
   ]
  },
  {
   "cell_type": "code",
   "execution_count": null,
   "metadata": {},
   "outputs": [],
   "source": [
    "import torch\n",
    "\n",
    "Q = torch.rand(3,3,3,3)"
   ]
  }
 ],
 "metadata": {
  "language_info": {
   "name": "python"
  }
 },
 "nbformat": 4,
 "nbformat_minor": 2
}
