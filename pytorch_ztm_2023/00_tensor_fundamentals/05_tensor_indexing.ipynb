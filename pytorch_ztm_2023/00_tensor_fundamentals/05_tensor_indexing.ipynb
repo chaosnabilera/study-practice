{
 "cells": [
  {
   "cell_type": "code",
   "execution_count": 4,
   "metadata": {},
   "outputs": [
    {
     "name": "stdout",
     "output_type": "stream",
     "text": [
      "tensor([[[1, 2, 3],\n",
      "         [4, 5, 6],\n",
      "         [7, 8, 9]]]) torch.Size([1, 3, 3])\n",
      "x[0,:,0] : tensor([1, 4, 7])\n",
      "x[0,:,1] : tensor([2, 5, 8])\n",
      "x[0,:,2] : tensor([3, 6, 9])\n"
     ]
    }
   ],
   "source": [
    "# Tensor indexing은 대략 array indexing과 크게 다를건 없는데\n",
    "# 다만 ':' 의 사용은 좀 알아둘 필요가 있어서 이 부분을 정리하고 넘어감\n",
    "\n",
    "import torch\n",
    "\n",
    "x = torch.arange(1,10).reshape(1,3,3)\n",
    "\n",
    "print(x, x.shape)\n",
    "\n",
    "# ':'는 해당 dimension을 전부 선택한다고 생각하면 된다. Wild card라고 생각해도 될 듯\n",
    "\n",
    "print(f'x[0,:,0] : {x[0,:,0]}') # [1,4,7]이 return 된다. 즉 x[0][*][0]\n",
    "print(f'x[0,:,1] : {x[0,:,1]}') # [2,5,8]\n",
    "print(f'x[0,:,2] : {x[0,:,2]}') # [3,6,9]"
   ]
  }
 ],
 "metadata": {
  "kernelspec": {
   "display_name": "torch",
   "language": "python",
   "name": "python3"
  },
  "language_info": {
   "codemirror_mode": {
    "name": "ipython",
    "version": 3
   },
   "file_extension": ".py",
   "mimetype": "text/x-python",
   "name": "python",
   "nbconvert_exporter": "python",
   "pygments_lexer": "ipython3",
   "version": "3.11.5"
  }
 },
 "nbformat": 4,
 "nbformat_minor": 2
}
