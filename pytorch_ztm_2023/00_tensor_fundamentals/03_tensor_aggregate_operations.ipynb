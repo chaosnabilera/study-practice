{
 "cells": [
  {
   "cell_type": "markdown",
   "metadata": {},
   "source": [
    "# Tensor aggregate operations\n",
    "- mean\n",
    "- sum\n",
    "- min\n",
    "    - Tensor 안에서 가장 작은 scalar\n",
    "- argmin\n",
    "    - Returns the indices of the minimum value(s) of the **flattened** tensor or along a dimension\n",
    "    - 즉 tensor를 vector로 쭉 폈을 때 나오는 index 또는 Tensor 내의 특정 dimension\n",
    "- max, argmax\n",
    "    - min, argmin과 비슷한 요령\n",
    "\n",
    "### argmin, argmax 이해하기 (혹은 dim reduce 이해하기)\n",
    "- https://pytorch.org/docs/stable/generated/torch.argmin.html\n",
    "- 사이트에서 보면 dim을 설정하는 걸 통해 '어느 dimension을 reduce할 것인지' 를 정할 수 있다\n",
    "- 난 저 말이 바로 이해가 잘 안됐었는데, 대략 이렇게 생각하면 되는 것 같다\n",
    "    - 예를 들어 shape가 (3,2,2) 인 tensor A가 있다고 치자\n",
    "    - dim=0 이라고 했다면 우리는 0번째 차원, 즉 3개짜리 차원에 대해 reduce한다는 것이다\n",
    "    - 여기서 reduce한다는게 무슨 뜻인지에 대해 dim=0 을 예로 들어 설명하면\n",
    "        - `[ [ argmin[x][0][0], argmin[x][0][1])], [ argmin[x][1][0], argmin[x][1][1] ] ]`\n",
    "        - 이렇게 위와 같이 output이 나온다는 얘기이다\n",
    "        - 그리고 예를 들어 `argmin[x][0][0]`에 들어갈 값은 `A[0][0][0]`, `A[1][0][0]`, `A[2][0][0]` 중에 가장 작은 값이 `A[1][0][0]` 였다면 1이 들어가게 된다\n",
    "        - 실제로 돌아가는건 코드 참조\n",
    "    - 즉 어떤 dimension으로 reduce한다는 것은 다른 dimension값은 안바꾸고 그 dimension값만 바꿔가면서 list를 만들었을 때 그 list에서 가장 작은(argmin)혹은 가장 큰 값(argmax)를 리턴하는 index를 찾는 다는 것이다"
   ]
  },
  {
   "cell_type": "code",
   "execution_count": 8,
   "metadata": {},
   "outputs": [],
   "source": [
    "import torch"
   ]
  },
  {
   "cell_type": "code",
   "execution_count": 9,
   "metadata": {},
   "outputs": [
    {
     "name": "stdout",
     "output_type": "stream",
     "text": [
      "X1\n",
      "tensor([[0.9161, 0.8654],\n",
      "        [0.3722, 0.5226],\n",
      "        [0.2227, 0.4851]])\n",
      "X1.min() = 0.22270160913467407\n"
     ]
    }
   ],
   "source": [
    "# min\n",
    "\n",
    "X1 = torch.rand(3,2)\n",
    "print('X1')\n",
    "print(X1)\n",
    "print(f'X1.min() = {X1.min()}')"
   ]
  },
  {
   "cell_type": "code",
   "execution_count": 10,
   "metadata": {},
   "outputs": [
    {
     "name": "stdout",
     "output_type": "stream",
     "text": [
      "X1\n",
      "tensor([[0.9613, 0.8376],\n",
      "        [0.9592, 0.6720],\n",
      "        [0.4922, 0.5638]])\n",
      "X1.min() = 0.49220842123031616\n",
      "X1.argmin() = 4\n",
      "X1.argmin(dim=0) = tensor([2, 2])\n",
      "X1.argmin(dim=1) = tensor([1, 1, 0])\n"
     ]
    }
   ],
   "source": [
    "# argmin basics\n",
    "\n",
    "X1 = torch.rand(3,2)\n",
    "print('X1')\n",
    "print(X1)\n",
    "print(f'X1.min() = {X1.min()}')\n",
    "print(f'X1.argmin() = {X1.argmin()}')\n",
    "print(f'X1.argmin(dim=0) = {X1.argmin(dim=0)}')\n",
    "print(f'X1.argmin(dim=1) = {X1.argmin(dim=1)}')\n"
   ]
  },
  {
   "cell_type": "code",
   "execution_count": 11,
   "metadata": {},
   "outputs": [
    {
     "name": "stdout",
     "output_type": "stream",
     "text": [
      "X1\n",
      "tensor([[[0.1953, 0.0770],\n",
      "         [0.7805, 0.4193]],\n",
      "\n",
      "        [[0.8303, 0.6519],\n",
      "         [0.5276, 0.5983]],\n",
      "\n",
      "        [[0.5805, 0.4086],\n",
      "         [0.0427, 0.8328]]])\n",
      "X1.min() = 0.04269641637802124\n",
      "X1.argmin() = 10\n",
      "X1.argmin(dim=0) = tensor([[0, 0],\n",
      "        [2, 0]])\n"
     ]
    }
   ],
   "source": [
    "# argmin advanced\n",
    "\n",
    "X1 = torch.rand(3,2,2)\n",
    "print('X1')\n",
    "print(X1)\n",
    "print(f'X1.min() = {X1.min()}')\n",
    "print(f'X1.argmin() = {X1.argmin()}')\n",
    "print(f'X1.argmin(dim=0) = {X1.argmin(dim=0)}')"
   ]
  },
  {
   "cell_type": "code",
   "execution_count": 12,
   "metadata": {},
   "outputs": [
    {
     "name": "stdout",
     "output_type": "stream",
     "text": [
      "X1\n",
      "tensor([[0.4580, 0.1287],\n",
      "        [0.2377, 0.6646],\n",
      "        [0.1513, 0.9658]])\n",
      "X1.max() = 0.9657543301582336\n"
     ]
    }
   ],
   "source": [
    "# max\n",
    "\n",
    "X1 = torch.rand(3,2)\n",
    "print('X1')\n",
    "print(X1)\n",
    "print(f'X1.max() = {X1.max()}')"
   ]
  },
  {
   "cell_type": "code",
   "execution_count": 13,
   "metadata": {},
   "outputs": [
    {
     "name": "stdout",
     "output_type": "stream",
     "text": [
      "X1\n",
      "tensor([[0.9005, 0.4863],\n",
      "        [0.0586, 0.3051],\n",
      "        [0.0834, 0.4785]])\n",
      "X1.max() = 0.9004698395729065\n",
      "X1.argmax() = 0\n",
      "X1.argmax(dim=0) = tensor([0, 0])\n",
      "X1.argmax(dim=1) = tensor([0, 1, 1])\n"
     ]
    }
   ],
   "source": [
    "# argmax basics\n",
    "\n",
    "X1 = torch.rand(3,2)\n",
    "print('X1')\n",
    "print(X1)\n",
    "print(f'X1.max() = {X1.max()}')\n",
    "print(f'X1.argmax() = {X1.argmax()}')\n",
    "print(f'X1.argmax(dim=0) = {X1.argmax(dim=0)}')\n",
    "print(f'X1.argmax(dim=1) = {X1.argmax(dim=1)}')"
   ]
  },
  {
   "cell_type": "code",
   "execution_count": 14,
   "metadata": {},
   "outputs": [
    {
     "name": "stdout",
     "output_type": "stream",
     "text": [
      "X1\n",
      "tensor([[[0.3993, 0.0250],\n",
      "         [0.1998, 0.4855]],\n",
      "\n",
      "        [[0.9534, 0.0043],\n",
      "         [0.0807, 0.3991]],\n",
      "\n",
      "        [[0.3063, 0.9054],\n",
      "         [0.0123, 0.6345]]])\n",
      "X1.max() = 0.9534218907356262\n",
      "X1.argmax() = 4\n",
      "X1.argmax(dim=0) = tensor([[1, 2],\n",
      "        [0, 2]])\n"
     ]
    }
   ],
   "source": [
    "# argmax advanced\n",
    "\n",
    "X1 = torch.rand(3,2,2)\n",
    "print('X1')\n",
    "print(X1)\n",
    "print(f'X1.max() = {X1.max()}')\n",
    "print(f'X1.argmax() = {X1.argmax()}')\n",
    "print(f'X1.argmax(dim=0) = {X1.argmax(dim=0)}')"
   ]
  }
 ],
 "metadata": {
  "kernelspec": {
   "display_name": "torch",
   "language": "python",
   "name": "python3"
  },
  "language_info": {
   "codemirror_mode": {
    "name": "ipython",
    "version": 3
   },
   "file_extension": ".py",
   "mimetype": "text/x-python",
   "name": "python",
   "nbconvert_exporter": "python",
   "pygments_lexer": "ipython3",
   "version": "3.11.5"
  }
 },
 "nbformat": 4,
 "nbformat_minor": 2
}
