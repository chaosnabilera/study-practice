{
 "cells": [
  {
   "cell_type": "markdown",
   "metadata": {},
   "source": [
    "# Tensor shape operations\n",
    "\n",
    "### reshape\n",
    "- 말 그대로 Tensor의 shape을 바꾼다\n",
    "- 새로운 Tensor를 return함\n",
    "- Shape은 서로 element수가 일치해야 바꿀 수 있다\n",
    "\n",
    "### view\n",
    "- reshape와 비슷하지만 새로운 Tensor를 return하는게 아니라 기존의 Tensor를 다른 shape인것 '처럼' 다룰 수 있다는 것이 차이\n",
    "\n",
    "### stack\n",
    "- Tensor를 **새로운** dimension을 따라 concatenate한다. stack의 결과는 ndim이 1 늘어난다\n",
    "    - dim을 설정해서 어느 dimension으로 concatenate할지 결정할 수 있다\n",
    "    - dim은 `[0,ndim]` 범위에서 설정할 수 있다\n",
    "- 예를들어 (4,3) Tensor A,B를 dim=0으로 stack한다면 (2,4,3) Tensor C가 나온다. 여기서 `C[0] = A`, `C[1] = B`가 되는 식\n",
    "\n",
    "### cat\n",
    "- Tensor를 **기존의** dimension을 따라 concatenate한다. cat의 결과는 ndim에 영향을 미치지 않는다\n",
    "- cat할 Tensor들은 dim을 제외한 나머지 shape이 동일해야 한다\n",
    "- 예를 들어 (M1,N,O) Tensor와 (M2,N,O) Tensor를 dim=0으로 cat한다면 결과 Tensor는 (M1+M2,N,O)가 되는 식이다\n",
    "\n",
    "### squeeze\n",
    "- size가 1인 차원을 삭제한다\n",
    "- 예를 들어 shape이 $(A\\times 1\\times B\\times 1\\times C\\times 1\\times D)$ 인 Tensor가 있다면, squeeze를 거치고 나면 $(A\\times B\\times C\\times D)$ 인 Tensor가 된다\n",
    "\n",
    "### unsqueeze\n",
    "- size가 1인 차원을 추가한다\n",
    "- 예를 들어 shape이 (2,3)인 tensor에 unsqueeze(dim=1)을 한다면 결과 Tensor는 (2,1,3) 의 shape을 갖게 된다\n",
    "\n",
    "### permute\n",
    "- Tensor의 shape에서 dimension의 순서를 바꾼다\n",
    "- 예를 들어 `X=torch.rand(2,3,4)`이고 `X.permute(2,1,0)`했다면 이렇게 하고 난 shape은 (4,3,2)가 된다"
   ]
  },
  {
   "cell_type": "code",
   "execution_count": 15,
   "metadata": {},
   "outputs": [],
   "source": [
    "import torch\n",
    "import traceback"
   ]
  },
  {
   "cell_type": "code",
   "execution_count": 16,
   "metadata": {},
   "outputs": [
    {
     "name": "stdout",
     "output_type": "stream",
     "text": [
      "tensor([[0.3437, 0.9468, 0.1185],\n",
      "        [0.1438, 0.4045, 0.0123],\n",
      "        [0.4066, 0.1774, 0.9209],\n",
      "        [0.4258, 0.5916, 0.8720]])\n",
      "tensor([[0.3437, 0.9468, 0.1185, 0.1438, 0.4045, 0.0123],\n",
      "        [0.4066, 0.1774, 0.9209, 0.4258, 0.5916, 0.8720]])\n"
     ]
    }
   ],
   "source": [
    "# reshape\n",
    "\n",
    "X = torch.rand(4,3)\n",
    "print(X)\n",
    "\n",
    "X_1 = X.reshape(2,6)\n",
    "print(X_1)"
   ]
  },
  {
   "cell_type": "code",
   "execution_count": 17,
   "metadata": {},
   "outputs": [
    {
     "name": "stdout",
     "output_type": "stream",
     "text": [
      "Traceback (most recent call last):\n",
      "  File \"/tmp/ipykernel_861175/3708386992.py\", line 6, in <module>\n",
      "    X_1 = X.reshape(2,5)\n",
      "          ^^^^^^^^^^^^^^\n",
      "RuntimeError: shape '[2, 5]' is invalid for input of size 12\n",
      "\n"
     ]
    }
   ],
   "source": [
    "# reshape시 size가 맞지 않으면 에러가 발생\n",
    "\n",
    "X = torch.rand(4,3)\n",
    "\n",
    "try:\n",
    "    X_1 = X.reshape(2,5)\n",
    "except:\n",
    "    print(traceback.format_exc())"
   ]
  },
  {
   "cell_type": "code",
   "execution_count": 18,
   "metadata": {},
   "outputs": [
    {
     "name": "stdout",
     "output_type": "stream",
     "text": [
      "tensor([[0.7058, 0.6062, 0.0911],\n",
      "        [0.9869, 0.9567, 0.7165],\n",
      "        [0.4913, 0.2403, 0.8323],\n",
      "        [0.3492, 0.8693, 0.2930]])\n",
      "tensor([[0.7058, 0.6062, 0.0911, 0.9869, 0.9567, 0.7165],\n",
      "        [0.4913, 0.2403, 0.8323, 0.3492, 0.8693, 0.2930]])\n",
      "set X[0][0] = 0.9999\n",
      "X_1 after X[0][0] = 0.9999\n",
      "tensor([[0.9999, 0.6062, 0.0911, 0.9869, 0.9567, 0.7165],\n",
      "        [0.4913, 0.2403, 0.8323, 0.3492, 0.8693, 0.2930]])\n"
     ]
    }
   ],
   "source": [
    "# view\n",
    "\n",
    "X = torch.rand(4,3)\n",
    "print(X)\n",
    "\n",
    "X_1 = X.view(2,6)\n",
    "print(X_1)\n",
    "\n",
    "print(f'set X[0][0] = 0.9999')\n",
    "X[0][0] = 0.9999\n",
    "\n",
    "print('X_1 after X[0][0] = 0.9999')\n",
    "print(X_1) # X를 바꿨는데 X_1도 바뀜을 알 수 있다"
   ]
  },
  {
   "cell_type": "code",
   "execution_count": 19,
   "metadata": {},
   "outputs": [
    {
     "name": "stdout",
     "output_type": "stream",
     "text": [
      "X_1.shape: torch.Size([4, 3])\n",
      "tensor([[0.5928, 0.1042, 0.6848],\n",
      "        [0.4948, 0.7186, 0.3037],\n",
      "        [0.0940, 0.2967, 0.5056],\n",
      "        [0.8616, 0.2199, 0.3155]])\n",
      "X_2.shape: torch.Size([4, 3])\n",
      "tensor([[0.8505, 0.2235, 0.0493],\n",
      "        [0.5448, 0.7720, 0.6747],\n",
      "        [0.8495, 0.5076, 0.4734],\n",
      "        [0.8688, 0.9622, 0.0726]])\n",
      "\n",
      "X_3.shape: torch.Size([2, 4, 3])\n",
      "tensor([[[0.5928, 0.1042, 0.6848],\n",
      "         [0.4948, 0.7186, 0.3037],\n",
      "         [0.0940, 0.2967, 0.5056],\n",
      "         [0.8616, 0.2199, 0.3155]],\n",
      "\n",
      "        [[0.8505, 0.2235, 0.0493],\n",
      "         [0.5448, 0.7720, 0.6747],\n",
      "         [0.8495, 0.5076, 0.4734],\n",
      "         [0.8688, 0.9622, 0.0726]]])\n",
      "\n",
      "X_4.shape: torch.Size([4, 2, 3])\n",
      "tensor([[[0.5928, 0.1042, 0.6848],\n",
      "         [0.8505, 0.2235, 0.0493]],\n",
      "\n",
      "        [[0.4948, 0.7186, 0.3037],\n",
      "         [0.5448, 0.7720, 0.6747]],\n",
      "\n",
      "        [[0.0940, 0.2967, 0.5056],\n",
      "         [0.8495, 0.5076, 0.4734]],\n",
      "\n",
      "        [[0.8616, 0.2199, 0.3155],\n",
      "         [0.8688, 0.9622, 0.0726]]])\n",
      "\n"
     ]
    }
   ],
   "source": [
    "# stack\n",
    "\n",
    "X_1 = torch.rand(4,3)\n",
    "X_2 = torch.rand(4,3)\n",
    "\n",
    "print(f'X_1.shape: {X_1.shape}')\n",
    "print(X_1)\n",
    "print(f'X_2.shape: {X_2.shape}')\n",
    "print(X_2)\n",
    "print()\n",
    "\n",
    "X_3 = torch.stack([X_1, X_2], dim=0)\n",
    "print(f'X_3.shape: {X_3.shape}')\n",
    "print(X_3)\n",
    "print()\n",
    "\n",
    "X_4 = torch.stack([X_1, X_2], dim=1)\n",
    "print(f'X_4.shape: {X_4.shape}')\n",
    "print(X_4)\n",
    "print()\n"
   ]
  },
  {
   "cell_type": "code",
   "execution_count": 20,
   "metadata": {},
   "outputs": [
    {
     "name": "stdout",
     "output_type": "stream",
     "text": [
      "X_1.shape: torch.Size([4, 3])\n",
      "tensor([[0.7280, 0.8106, 0.4278],\n",
      "        [0.8925, 0.7051, 0.8516],\n",
      "        [0.9412, 0.1512, 0.1079],\n",
      "        [0.8097, 0.0916, 0.3999]])\n",
      "X_2.shape: torch.Size([4, 3])\n",
      "tensor([[0.6464, 0.5965, 0.7494],\n",
      "        [0.0806, 0.6003, 0.2211],\n",
      "        [0.4949, 0.4382, 0.0830],\n",
      "        [0.2313, 0.1890, 0.0511]])\n",
      "\n",
      "X_3.shape: torch.Size([8, 3])\n",
      "tensor([[0.7280, 0.8106, 0.4278],\n",
      "        [0.8925, 0.7051, 0.8516],\n",
      "        [0.9412, 0.1512, 0.1079],\n",
      "        [0.8097, 0.0916, 0.3999],\n",
      "        [0.6464, 0.5965, 0.7494],\n",
      "        [0.0806, 0.6003, 0.2211],\n",
      "        [0.4949, 0.4382, 0.0830],\n",
      "        [0.2313, 0.1890, 0.0511]])\n",
      "\n",
      "X_4.shape: torch.Size([4, 6])\n",
      "tensor([[0.7280, 0.8106, 0.4278, 0.6464, 0.5965, 0.7494],\n",
      "        [0.8925, 0.7051, 0.8516, 0.0806, 0.6003, 0.2211],\n",
      "        [0.9412, 0.1512, 0.1079, 0.4949, 0.4382, 0.0830],\n",
      "        [0.8097, 0.0916, 0.3999, 0.2313, 0.1890, 0.0511]])\n",
      "\n"
     ]
    }
   ],
   "source": [
    "# cat\n",
    "\n",
    "X_1 = torch.rand(4,3)\n",
    "X_2 = torch.rand(4,3)\n",
    "\n",
    "print(f'X_1.shape: {X_1.shape}')\n",
    "print(X_1)\n",
    "print(f'X_2.shape: {X_2.shape}')\n",
    "print(X_2)\n",
    "print()\n",
    "\n",
    "X_3 = torch.cat([X_1, X_2], dim=0)\n",
    "print(f'X_3.shape: {X_3.shape}')\n",
    "print(X_3)\n",
    "print()\n",
    "\n",
    "X_4 = torch.cat([X_1, X_2], dim=1)\n",
    "print(f'X_4.shape: {X_4.shape}')\n",
    "print(X_4)\n",
    "print()"
   ]
  },
  {
   "cell_type": "code",
   "execution_count": 21,
   "metadata": {},
   "outputs": [
    {
     "name": "stdout",
     "output_type": "stream",
     "text": [
      "X1.shape: torch.Size([4, 1, 3, 1, 5])\n",
      "X1.squeeze().shape: torch.Size([4, 3, 5])\n",
      "X2.shape: torch.Size([2, 3])\n",
      "X2.unsqueeze(dim=1).shape: torch.Size([2, 1, 3])\n"
     ]
    }
   ],
   "source": [
    "# squeeze / unsqueeze\n",
    "\n",
    "X1 = torch.rand(4,1,3,1,5)\n",
    "print(f'X1.shape: {X1.shape}')\n",
    "print(f'X1.squeeze().shape: {X1.squeeze().shape}')\n",
    "\n",
    "X2 = torch.rand(2,3)\n",
    "print(f'X2.shape: {X2.shape}')\n",
    "print(f'X2.unsqueeze(dim=1).shape: {X2.unsqueeze(dim=1).shape}')\n"
   ]
  },
  {
   "cell_type": "code",
   "execution_count": 28,
   "metadata": {},
   "outputs": [
    {
     "name": "stdout",
     "output_type": "stream",
     "text": [
      "X.shape: torch.Size([3, 2, 1])\n",
      "X:\n",
      "tensor([[[1],\n",
      "         [2]],\n",
      "\n",
      "        [[3],\n",
      "         [4]],\n",
      "\n",
      "        [[5],\n",
      "         [6]]])\n",
      "X2.shape: torch.Size([1, 2, 3])\n",
      "X2:\n",
      "tensor([[[1, 3, 5],\n",
      "         [2, 4, 6]]])\n"
     ]
    }
   ],
   "source": [
    "# permute\n",
    "\n",
    "X = torch.tensor([[[1],[2]],[[3],[4]],[[5],[6]]])\n",
    "print(f'X.shape: {X.shape}')\n",
    "print(f'X:')\n",
    "print(X)\n",
    "\n",
    "X2 = X.permute(2,1,0)\n",
    "\n",
    "# 대략 이렇게 바뀐다\n",
    "#\n",
    "#  [X[0][0][0], X[1][0][0], X[2][0][0]]\n",
    "#  [X[0][1][0], X[1][1][0], X[2][1][0]]\n",
    "#  \n",
    "\n",
    "print(f'X2.shape: {X2.shape}')\n",
    "print(f'X2:')\n",
    "print(X2)\n"
   ]
  },
  {
   "cell_type": "code",
   "execution_count": null,
   "metadata": {},
   "outputs": [],
   "source": []
  }
 ],
 "metadata": {
  "kernelspec": {
   "display_name": "torch",
   "language": "python",
   "name": "python3"
  },
  "language_info": {
   "codemirror_mode": {
    "name": "ipython",
    "version": 3
   },
   "file_extension": ".py",
   "mimetype": "text/x-python",
   "name": "python",
   "nbconvert_exporter": "python",
   "pygments_lexer": "ipython3",
   "version": "3.11.5"
  }
 },
 "nbformat": 4,
 "nbformat_minor": 2
}
