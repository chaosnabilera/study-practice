{
 "cells": [
  {
   "cell_type": "markdown",
   "id": "5de55dde",
   "metadata": {},
   "source": [
    "# Imputer\n",
    "- github colab : https://homl.info/colab3\n",
    "- Data에 아예 input이 누락되어 있는 곳이 있을 수 있다\n",
    "- 이러한 data에 대응하는 방법에는 다음이 있을 수 있다\n",
    "    - 특정한 값(예 : 0, median, mean)으로 채운다\n",
    "    - 누락된 data가 있는 row를 제외한다\n",
    "    - 누락된 data가 있는 column을 제외한다\n",
    "- 특정한 값으로 채우는 역할을 해주는 걸 Imputer라고 한다"
   ]
  },
  {
   "cell_type": "code",
   "execution_count": 174,
   "id": "717051bb",
   "metadata": {},
   "outputs": [
    {
     "name": "stdout",
     "output_type": "stream",
     "text": [
      "output_dir : images\\end_to_end_project\n"
     ]
    }
   ],
   "source": [
    "import matplotlib\n",
    "import numpy\n",
    "import pathlib\n",
    "import pandas\n",
    "import sklearn\n",
    "import sklearn.impute\n",
    "import sklearn.model_selection\n",
    "import sklearn.preprocessing\n",
    "import tarfile\n",
    "import urllib\n",
    "\n",
    "def ch2_load_housing_data():\n",
    "    tarball_path = pathlib.Path(\"datasets/housing.tgz\")\n",
    "    if not tarball_path.is_file():\n",
    "        pathlib.Path(\"datasets\").mkdir(parents=True, exist_ok=True)\n",
    "        url = \"https://github.com/ageron/data/raw/main/housing.tgz\"\n",
    "        urllib.request.urlretrieve(url, tarball_path)\n",
    "        with tarfile.open(tarball_path) as housing_tarball:\n",
    "            housing_tarball.extractall(path=\"datasets\")\n",
    "    return pandas.read_csv(pathlib.Path(\"datasets/housing/housing.csv\"))\n",
    "\n",
    "def matplotlib_to_imagefile(output_dir, filename, imgext=\"png\", tight_layout=True, resolution=300):\n",
    "    path = output_dir / f\"{filename}.{imgext}\"\n",
    "    if tight_layout:\n",
    "        matplotlib.pyplot.tight_layout()\n",
    "    matplotlib.pyplot.savefig(path, format=imgext, dpi=resolution)\n",
    "    \n",
    "def stratified_sampling_income_category(input_dataframe):\n",
    "    input_dataframe = input_dataframe.copy()\n",
    "    input_dataframe[\"income_cat\"] = pandas.cut(input_dataframe[\"median_income\"],\n",
    "                               bins=[0., 1.5, 3.0, 4.5, 6., numpy.inf],\n",
    "                               labels=[1, 2, 3, 4, 5])\n",
    "    s_train, s_test = sklearn.model_selection.train_test_split(input_dataframe, test_size = 0.2, stratify = input_dataframe['income_cat'], random_state = 42)\n",
    "    s_train.drop('income_cat', axis=1, inplace=True)\n",
    "    s_test.drop('income_cat', axis=1, inplace=True)\n",
    "    \n",
    "    return s_train, s_test\n",
    "    \n",
    "# 저장할 디렉토리 설정\n",
    "output_dir = pathlib.Path() / \"images\" / \"end_to_end_project\"\n",
    "output_dir.mkdir(parents=True, exist_ok=True)\n",
    "print(f'output_dir : {output_dir}')\n",
    "\n",
    "input_dataframe = ch2_load_housing_data()\n",
    "train, test = stratified_sampling_income_category(input_dataframe)"
   ]
  },
  {
   "cell_type": "code",
   "execution_count": 175,
   "id": "28db204f",
   "metadata": {},
   "outputs": [],
   "source": [
    "#\n",
    "# 우리가 예측하고자 하는 값을 label이라고 하고 label을 예측하기 위한 근거/데이터를 predictor라고 한다\n",
    "# 바꿔 말해 우리는 predictor를 통해 label을 예측할 수 있는 프로그램을 만들고자 하는 것이다\n",
    "#\n",
    "label = train['median_house_value'].copy()\n",
    "predictor = train.drop('median_house_value', axis = 1)  # 0 = drop row / 1 = drop column"
   ]
  },
  {
   "cell_type": "code",
   "execution_count": 176,
   "id": "66e882c1",
   "metadata": {},
   "outputs": [
    {
     "name": "stdout",
     "output_type": "stream",
     "text": [
      "<class 'pandas.core.frame.DataFrame'>\n",
      "RangeIndex: 20640 entries, 0 to 20639\n",
      "Data columns (total 10 columns):\n",
      " #   Column              Non-Null Count  Dtype  \n",
      "---  ------              --------------  -----  \n",
      " 0   longitude           20640 non-null  float64\n",
      " 1   latitude            20640 non-null  float64\n",
      " 2   housing_median_age  20640 non-null  float64\n",
      " 3   total_rooms         20640 non-null  float64\n",
      " 4   total_bedrooms      20433 non-null  float64\n",
      " 5   population          20640 non-null  float64\n",
      " 6   households          20640 non-null  float64\n",
      " 7   median_income       20640 non-null  float64\n",
      " 8   median_house_value  20640 non-null  float64\n",
      " 9   ocean_proximity     20640 non-null  object \n",
      "dtypes: float64(9), object(1)\n",
      "memory usage: 1.6+ MB\n"
     ]
    }
   ],
   "source": [
    "#\n",
    "# recap : total_bedrooms에 빠진 데이터가 있다\n",
    "#\n",
    "input_dataframe.info()"
   ]
  },
  {
   "cell_type": "code",
   "execution_count": 177,
   "id": "a23e825c",
   "metadata": {},
   "outputs": [
    {
     "data": {
      "text/html": [
       "<div>\n",
       "<style scoped>\n",
       "    .dataframe tbody tr th:only-of-type {\n",
       "        vertical-align: middle;\n",
       "    }\n",
       "\n",
       "    .dataframe tbody tr th {\n",
       "        vertical-align: top;\n",
       "    }\n",
       "\n",
       "    .dataframe thead th {\n",
       "        text-align: right;\n",
       "    }\n",
       "</style>\n",
       "<table border=\"1\" class=\"dataframe\">\n",
       "  <thead>\n",
       "    <tr style=\"text-align: right;\">\n",
       "      <th></th>\n",
       "      <th>longitude</th>\n",
       "      <th>latitude</th>\n",
       "      <th>housing_median_age</th>\n",
       "      <th>total_rooms</th>\n",
       "      <th>total_bedrooms</th>\n",
       "      <th>population</th>\n",
       "      <th>households</th>\n",
       "      <th>median_income</th>\n",
       "      <th>ocean_proximity</th>\n",
       "    </tr>\n",
       "  </thead>\n",
       "  <tbody>\n",
       "    <tr>\n",
       "      <th>13096</th>\n",
       "      <td>False</td>\n",
       "      <td>False</td>\n",
       "      <td>False</td>\n",
       "      <td>False</td>\n",
       "      <td>False</td>\n",
       "      <td>False</td>\n",
       "      <td>False</td>\n",
       "      <td>False</td>\n",
       "      <td>False</td>\n",
       "    </tr>\n",
       "    <tr>\n",
       "      <th>14973</th>\n",
       "      <td>False</td>\n",
       "      <td>False</td>\n",
       "      <td>False</td>\n",
       "      <td>False</td>\n",
       "      <td>False</td>\n",
       "      <td>False</td>\n",
       "      <td>False</td>\n",
       "      <td>False</td>\n",
       "      <td>False</td>\n",
       "    </tr>\n",
       "    <tr>\n",
       "      <th>3785</th>\n",
       "      <td>False</td>\n",
       "      <td>False</td>\n",
       "      <td>False</td>\n",
       "      <td>False</td>\n",
       "      <td>False</td>\n",
       "      <td>False</td>\n",
       "      <td>False</td>\n",
       "      <td>False</td>\n",
       "      <td>False</td>\n",
       "    </tr>\n",
       "    <tr>\n",
       "      <th>14689</th>\n",
       "      <td>False</td>\n",
       "      <td>False</td>\n",
       "      <td>False</td>\n",
       "      <td>False</td>\n",
       "      <td>False</td>\n",
       "      <td>False</td>\n",
       "      <td>False</td>\n",
       "      <td>False</td>\n",
       "      <td>False</td>\n",
       "    </tr>\n",
       "    <tr>\n",
       "      <th>20507</th>\n",
       "      <td>False</td>\n",
       "      <td>False</td>\n",
       "      <td>False</td>\n",
       "      <td>False</td>\n",
       "      <td>False</td>\n",
       "      <td>False</td>\n",
       "      <td>False</td>\n",
       "      <td>False</td>\n",
       "      <td>False</td>\n",
       "    </tr>\n",
       "    <tr>\n",
       "      <th>...</th>\n",
       "      <td>...</td>\n",
       "      <td>...</td>\n",
       "      <td>...</td>\n",
       "      <td>...</td>\n",
       "      <td>...</td>\n",
       "      <td>...</td>\n",
       "      <td>...</td>\n",
       "      <td>...</td>\n",
       "      <td>...</td>\n",
       "    </tr>\n",
       "    <tr>\n",
       "      <th>14207</th>\n",
       "      <td>False</td>\n",
       "      <td>False</td>\n",
       "      <td>False</td>\n",
       "      <td>False</td>\n",
       "      <td>False</td>\n",
       "      <td>False</td>\n",
       "      <td>False</td>\n",
       "      <td>False</td>\n",
       "      <td>False</td>\n",
       "    </tr>\n",
       "    <tr>\n",
       "      <th>13105</th>\n",
       "      <td>False</td>\n",
       "      <td>False</td>\n",
       "      <td>False</td>\n",
       "      <td>False</td>\n",
       "      <td>False</td>\n",
       "      <td>False</td>\n",
       "      <td>False</td>\n",
       "      <td>False</td>\n",
       "      <td>False</td>\n",
       "    </tr>\n",
       "    <tr>\n",
       "      <th>19301</th>\n",
       "      <td>False</td>\n",
       "      <td>False</td>\n",
       "      <td>False</td>\n",
       "      <td>False</td>\n",
       "      <td>False</td>\n",
       "      <td>False</td>\n",
       "      <td>False</td>\n",
       "      <td>False</td>\n",
       "      <td>False</td>\n",
       "    </tr>\n",
       "    <tr>\n",
       "      <th>19121</th>\n",
       "      <td>False</td>\n",
       "      <td>False</td>\n",
       "      <td>False</td>\n",
       "      <td>False</td>\n",
       "      <td>False</td>\n",
       "      <td>False</td>\n",
       "      <td>False</td>\n",
       "      <td>False</td>\n",
       "      <td>False</td>\n",
       "    </tr>\n",
       "    <tr>\n",
       "      <th>19888</th>\n",
       "      <td>False</td>\n",
       "      <td>False</td>\n",
       "      <td>False</td>\n",
       "      <td>False</td>\n",
       "      <td>False</td>\n",
       "      <td>False</td>\n",
       "      <td>False</td>\n",
       "      <td>False</td>\n",
       "      <td>False</td>\n",
       "    </tr>\n",
       "  </tbody>\n",
       "</table>\n",
       "<p>16512 rows × 9 columns</p>\n",
       "</div>"
      ],
      "text/plain": [
       "       longitude  latitude  housing_median_age  total_rooms  total_bedrooms  \\\n",
       "13096      False     False               False        False           False   \n",
       "14973      False     False               False        False           False   \n",
       "3785       False     False               False        False           False   \n",
       "14689      False     False               False        False           False   \n",
       "20507      False     False               False        False           False   \n",
       "...          ...       ...                 ...          ...             ...   \n",
       "14207      False     False               False        False           False   \n",
       "13105      False     False               False        False           False   \n",
       "19301      False     False               False        False           False   \n",
       "19121      False     False               False        False           False   \n",
       "19888      False     False               False        False           False   \n",
       "\n",
       "       population  households  median_income  ocean_proximity  \n",
       "13096       False       False          False            False  \n",
       "14973       False       False          False            False  \n",
       "3785        False       False          False            False  \n",
       "14689       False       False          False            False  \n",
       "20507       False       False          False            False  \n",
       "...           ...         ...            ...              ...  \n",
       "14207       False       False          False            False  \n",
       "13105       False       False          False            False  \n",
       "19301       False       False          False            False  \n",
       "19121       False       False          False            False  \n",
       "19888       False       False          False            False  \n",
       "\n",
       "[16512 rows x 9 columns]"
      ]
     },
     "execution_count": 177,
     "metadata": {},
     "output_type": "execute_result"
    }
   ],
   "source": [
    "# pandas.DataFrame.isnull 은 isna의 alias이다. null/NaN/None이면 True이고 아니면 False인 DataFrame을 리턴한다 (크기는 같다)\n",
    "predictor.isnull()"
   ]
  },
  {
   "cell_type": "code",
   "execution_count": 178,
   "id": "6af6c780",
   "metadata": {},
   "outputs": [
    {
     "data": {
      "text/plain": [
       "13096    False\n",
       "8495     False\n",
       "16803    False\n",
       "4537     False\n",
       "4606     False\n",
       "         ...  \n",
       "4504      True\n",
       "7018      True\n",
       "6857      True\n",
       "13498     True\n",
       "4091      True\n",
       "Length: 16512, dtype: bool"
      ]
     },
     "execution_count": 178,
     "metadata": {},
     "output_type": "execute_result"
    }
   ],
   "source": [
    "# pandas.DataFrame.any는 True인게 하나라도 있는지에 대한걸 조사해 준다\n",
    "# axis=1 이면 row중에 하나라도 True가 있는지 여부다\n",
    "predictor.isnull().any(axis=1).sort_values()"
   ]
  },
  {
   "cell_type": "code",
   "execution_count": 179,
   "id": "8496995b",
   "metadata": {},
   "outputs": [
    {
     "data": {
      "text/html": [
       "<div>\n",
       "<style scoped>\n",
       "    .dataframe tbody tr th:only-of-type {\n",
       "        vertical-align: middle;\n",
       "    }\n",
       "\n",
       "    .dataframe tbody tr th {\n",
       "        vertical-align: top;\n",
       "    }\n",
       "\n",
       "    .dataframe thead th {\n",
       "        text-align: right;\n",
       "    }\n",
       "</style>\n",
       "<table border=\"1\" class=\"dataframe\">\n",
       "  <thead>\n",
       "    <tr style=\"text-align: right;\">\n",
       "      <th></th>\n",
       "      <th>longitude</th>\n",
       "      <th>latitude</th>\n",
       "      <th>housing_median_age</th>\n",
       "      <th>total_rooms</th>\n",
       "      <th>total_bedrooms</th>\n",
       "      <th>population</th>\n",
       "      <th>households</th>\n",
       "      <th>median_income</th>\n",
       "      <th>ocean_proximity</th>\n",
       "    </tr>\n",
       "  </thead>\n",
       "  <tbody>\n",
       "    <tr>\n",
       "      <th>14452</th>\n",
       "      <td>-120.67</td>\n",
       "      <td>40.50</td>\n",
       "      <td>15.0</td>\n",
       "      <td>5343.0</td>\n",
       "      <td>NaN</td>\n",
       "      <td>2503.0</td>\n",
       "      <td>902.0</td>\n",
       "      <td>3.5962</td>\n",
       "      <td>INLAND</td>\n",
       "    </tr>\n",
       "    <tr>\n",
       "      <th>18217</th>\n",
       "      <td>-117.96</td>\n",
       "      <td>34.03</td>\n",
       "      <td>35.0</td>\n",
       "      <td>2093.0</td>\n",
       "      <td>NaN</td>\n",
       "      <td>1755.0</td>\n",
       "      <td>403.0</td>\n",
       "      <td>3.4115</td>\n",
       "      <td>&lt;1H OCEAN</td>\n",
       "    </tr>\n",
       "    <tr>\n",
       "      <th>11889</th>\n",
       "      <td>-118.05</td>\n",
       "      <td>34.04</td>\n",
       "      <td>33.0</td>\n",
       "      <td>1348.0</td>\n",
       "      <td>NaN</td>\n",
       "      <td>1098.0</td>\n",
       "      <td>257.0</td>\n",
       "      <td>4.2917</td>\n",
       "      <td>&lt;1H OCEAN</td>\n",
       "    </tr>\n",
       "    <tr>\n",
       "      <th>20325</th>\n",
       "      <td>-118.88</td>\n",
       "      <td>34.17</td>\n",
       "      <td>15.0</td>\n",
       "      <td>4260.0</td>\n",
       "      <td>NaN</td>\n",
       "      <td>1701.0</td>\n",
       "      <td>669.0</td>\n",
       "      <td>5.1033</td>\n",
       "      <td>&lt;1H OCEAN</td>\n",
       "    </tr>\n",
       "    <tr>\n",
       "      <th>14360</th>\n",
       "      <td>-117.87</td>\n",
       "      <td>33.62</td>\n",
       "      <td>8.0</td>\n",
       "      <td>1266.0</td>\n",
       "      <td>NaN</td>\n",
       "      <td>375.0</td>\n",
       "      <td>183.0</td>\n",
       "      <td>9.8020</td>\n",
       "      <td>&lt;1H OCEAN</td>\n",
       "    </tr>\n",
       "    <tr>\n",
       "      <th>...</th>\n",
       "      <td>...</td>\n",
       "      <td>...</td>\n",
       "      <td>...</td>\n",
       "      <td>...</td>\n",
       "      <td>...</td>\n",
       "      <td>...</td>\n",
       "      <td>...</td>\n",
       "      <td>...</td>\n",
       "      <td>...</td>\n",
       "    </tr>\n",
       "    <tr>\n",
       "      <th>2348</th>\n",
       "      <td>-122.70</td>\n",
       "      <td>38.35</td>\n",
       "      <td>14.0</td>\n",
       "      <td>2313.0</td>\n",
       "      <td>NaN</td>\n",
       "      <td>954.0</td>\n",
       "      <td>397.0</td>\n",
       "      <td>3.7813</td>\n",
       "      <td>&lt;1H OCEAN</td>\n",
       "    </tr>\n",
       "    <tr>\n",
       "      <th>366</th>\n",
       "      <td>-122.50</td>\n",
       "      <td>37.75</td>\n",
       "      <td>44.0</td>\n",
       "      <td>1819.0</td>\n",
       "      <td>NaN</td>\n",
       "      <td>1137.0</td>\n",
       "      <td>354.0</td>\n",
       "      <td>3.4919</td>\n",
       "      <td>NEAR OCEAN</td>\n",
       "    </tr>\n",
       "    <tr>\n",
       "      <th>18241</th>\n",
       "      <td>-121.44</td>\n",
       "      <td>38.54</td>\n",
       "      <td>39.0</td>\n",
       "      <td>2855.0</td>\n",
       "      <td>NaN</td>\n",
       "      <td>1217.0</td>\n",
       "      <td>562.0</td>\n",
       "      <td>3.2404</td>\n",
       "      <td>INLAND</td>\n",
       "    </tr>\n",
       "    <tr>\n",
       "      <th>18493</th>\n",
       "      <td>-116.21</td>\n",
       "      <td>33.75</td>\n",
       "      <td>22.0</td>\n",
       "      <td>894.0</td>\n",
       "      <td>NaN</td>\n",
       "      <td>830.0</td>\n",
       "      <td>202.0</td>\n",
       "      <td>3.0673</td>\n",
       "      <td>INLAND</td>\n",
       "    </tr>\n",
       "    <tr>\n",
       "      <th>16519</th>\n",
       "      <td>-117.86</td>\n",
       "      <td>34.01</td>\n",
       "      <td>16.0</td>\n",
       "      <td>4632.0</td>\n",
       "      <td>NaN</td>\n",
       "      <td>3038.0</td>\n",
       "      <td>727.0</td>\n",
       "      <td>5.1762</td>\n",
       "      <td>&lt;1H OCEAN</td>\n",
       "    </tr>\n",
       "  </tbody>\n",
       "</table>\n",
       "<p>168 rows × 9 columns</p>\n",
       "</div>"
      ],
      "text/plain": [
       "       longitude  latitude  housing_median_age  total_rooms  total_bedrooms  \\\n",
       "14452    -120.67     40.50                15.0       5343.0             NaN   \n",
       "18217    -117.96     34.03                35.0       2093.0             NaN   \n",
       "11889    -118.05     34.04                33.0       1348.0             NaN   \n",
       "20325    -118.88     34.17                15.0       4260.0             NaN   \n",
       "14360    -117.87     33.62                 8.0       1266.0             NaN   \n",
       "...          ...       ...                 ...          ...             ...   \n",
       "2348     -122.70     38.35                14.0       2313.0             NaN   \n",
       "366      -122.50     37.75                44.0       1819.0             NaN   \n",
       "18241    -121.44     38.54                39.0       2855.0             NaN   \n",
       "18493    -116.21     33.75                22.0        894.0             NaN   \n",
       "16519    -117.86     34.01                16.0       4632.0             NaN   \n",
       "\n",
       "       population  households  median_income ocean_proximity  \n",
       "14452      2503.0       902.0         3.5962          INLAND  \n",
       "18217      1755.0       403.0         3.4115       <1H OCEAN  \n",
       "11889      1098.0       257.0         4.2917       <1H OCEAN  \n",
       "20325      1701.0       669.0         5.1033       <1H OCEAN  \n",
       "14360       375.0       183.0         9.8020       <1H OCEAN  \n",
       "...           ...         ...            ...             ...  \n",
       "2348        954.0       397.0         3.7813       <1H OCEAN  \n",
       "366        1137.0       354.0         3.4919      NEAR OCEAN  \n",
       "18241      1217.0       562.0         3.2404          INLAND  \n",
       "18493       830.0       202.0         3.0673          INLAND  \n",
       "16519      3038.0       727.0         5.1762       <1H OCEAN  \n",
       "\n",
       "[168 rows x 9 columns]"
      ]
     },
     "execution_count": 179,
     "metadata": {},
     "output_type": "execute_result"
    }
   ],
   "source": [
    "#\n",
    "# https://pandas.pydata.org/docs/reference/api/pandas.DataFrame.loc.html\n",
    "# pandas.DataFrame.loc 은 기본적으로 label-based이다\n",
    "# 하지만 boolean array를 받을 수도 있으며 이 경우에는 true에 해당하는 row만을 리턴한다\n",
    "#\n",
    "bool_arr = predictor.isnull().any(axis=1)\n",
    "predictor.loc[bool_arr]"
   ]
  },
  {
   "cell_type": "markdown",
   "id": "16781c4d",
   "metadata": {},
   "source": [
    "- 이와 같이 NaN/Null/None 이 있는지 확인을 했다면, 이것들을 어떻게 할것인지에 대해 생각해 봐야 함"
   ]
  },
  {
   "cell_type": "code",
   "execution_count": 180,
   "id": "e01d89b9",
   "metadata": {},
   "outputs": [],
   "source": [
    "# Option 1 : null이 있는 row들을 삭제한다\n",
    "pred_drop_na = predictor.dropna(subset=['total_bedrooms'])"
   ]
  },
  {
   "cell_type": "code",
   "execution_count": 181,
   "id": "c0fe6028",
   "metadata": {},
   "outputs": [],
   "source": [
    "# Option 2 : null을 포함하는 column을 제거한다\n",
    "pred_drop_col = predictor.drop('total_bedrooms', axis = 1)"
   ]
  },
  {
   "cell_type": "code",
   "execution_count": 182,
   "id": "7fd3fc72",
   "metadata": {},
   "outputs": [
    {
     "name": "stdout",
     "output_type": "stream",
     "text": [
      "predictor['total_bedrooms'] = 434.0\n"
     ]
    }
   ],
   "source": [
    "# Option 3 : null을 다른 뭔가로 채워 넣는다 <- 여기서는 이걸로\n",
    "median = predictor['total_bedrooms'].median()\n",
    "print(f\"predictor['total_bedrooms'] = {median}\")\n",
    "predictor['total_bedrooms'].fillna(median, inplace = True)"
   ]
  },
  {
   "cell_type": "markdown",
   "id": "39b74b49",
   "metadata": {},
   "source": [
    "- scikit-learn에서는 SimpleImputer라고 해서 저런걸 해주는 class 가 존재함"
   ]
  },
  {
   "cell_type": "code",
   "execution_count": 183,
   "id": "0ed61eb1",
   "metadata": {},
   "outputs": [],
   "source": [
    "imputer = sklearn.impute.SimpleImputer(strategy='median')"
   ]
  },
  {
   "cell_type": "code",
   "execution_count": 184,
   "id": "b8a2369e",
   "metadata": {},
   "outputs": [
    {
     "data": {
      "text/html": [
       "<style>#sk-container-id-7 {color: black;background-color: white;}#sk-container-id-7 pre{padding: 0;}#sk-container-id-7 div.sk-toggleable {background-color: white;}#sk-container-id-7 label.sk-toggleable__label {cursor: pointer;display: block;width: 100%;margin-bottom: 0;padding: 0.3em;box-sizing: border-box;text-align: center;}#sk-container-id-7 label.sk-toggleable__label-arrow:before {content: \"▸\";float: left;margin-right: 0.25em;color: #696969;}#sk-container-id-7 label.sk-toggleable__label-arrow:hover:before {color: black;}#sk-container-id-7 div.sk-estimator:hover label.sk-toggleable__label-arrow:before {color: black;}#sk-container-id-7 div.sk-toggleable__content {max-height: 0;max-width: 0;overflow: hidden;text-align: left;background-color: #f0f8ff;}#sk-container-id-7 div.sk-toggleable__content pre {margin: 0.2em;color: black;border-radius: 0.25em;background-color: #f0f8ff;}#sk-container-id-7 input.sk-toggleable__control:checked~div.sk-toggleable__content {max-height: 200px;max-width: 100%;overflow: auto;}#sk-container-id-7 input.sk-toggleable__control:checked~label.sk-toggleable__label-arrow:before {content: \"▾\";}#sk-container-id-7 div.sk-estimator input.sk-toggleable__control:checked~label.sk-toggleable__label {background-color: #d4ebff;}#sk-container-id-7 div.sk-label input.sk-toggleable__control:checked~label.sk-toggleable__label {background-color: #d4ebff;}#sk-container-id-7 input.sk-hidden--visually {border: 0;clip: rect(1px 1px 1px 1px);clip: rect(1px, 1px, 1px, 1px);height: 1px;margin: -1px;overflow: hidden;padding: 0;position: absolute;width: 1px;}#sk-container-id-7 div.sk-estimator {font-family: monospace;background-color: #f0f8ff;border: 1px dotted black;border-radius: 0.25em;box-sizing: border-box;margin-bottom: 0.5em;}#sk-container-id-7 div.sk-estimator:hover {background-color: #d4ebff;}#sk-container-id-7 div.sk-parallel-item::after {content: \"\";width: 100%;border-bottom: 1px solid gray;flex-grow: 1;}#sk-container-id-7 div.sk-label:hover label.sk-toggleable__label {background-color: #d4ebff;}#sk-container-id-7 div.sk-serial::before {content: \"\";position: absolute;border-left: 1px solid gray;box-sizing: border-box;top: 0;bottom: 0;left: 50%;z-index: 0;}#sk-container-id-7 div.sk-serial {display: flex;flex-direction: column;align-items: center;background-color: white;padding-right: 0.2em;padding-left: 0.2em;position: relative;}#sk-container-id-7 div.sk-item {position: relative;z-index: 1;}#sk-container-id-7 div.sk-parallel {display: flex;align-items: stretch;justify-content: center;background-color: white;position: relative;}#sk-container-id-7 div.sk-item::before, #sk-container-id-7 div.sk-parallel-item::before {content: \"\";position: absolute;border-left: 1px solid gray;box-sizing: border-box;top: 0;bottom: 0;left: 50%;z-index: -1;}#sk-container-id-7 div.sk-parallel-item {display: flex;flex-direction: column;z-index: 1;position: relative;background-color: white;}#sk-container-id-7 div.sk-parallel-item:first-child::after {align-self: flex-end;width: 50%;}#sk-container-id-7 div.sk-parallel-item:last-child::after {align-self: flex-start;width: 50%;}#sk-container-id-7 div.sk-parallel-item:only-child::after {width: 0;}#sk-container-id-7 div.sk-dashed-wrapped {border: 1px dashed gray;margin: 0 0.4em 0.5em 0.4em;box-sizing: border-box;padding-bottom: 0.4em;background-color: white;}#sk-container-id-7 div.sk-label label {font-family: monospace;font-weight: bold;display: inline-block;line-height: 1.2em;}#sk-container-id-7 div.sk-label-container {text-align: center;}#sk-container-id-7 div.sk-container {/* jupyter's `normalize.less` sets `[hidden] { display: none; }` but bootstrap.min.css set `[hidden] { display: none !important; }` so we also need the `!important` here to be able to override the default hidden behavior on the sphinx rendered scikit-learn.org. See: https://github.com/scikit-learn/scikit-learn/issues/21755 */display: inline-block !important;position: relative;}#sk-container-id-7 div.sk-text-repr-fallback {display: none;}</style><div id=\"sk-container-id-7\" class=\"sk-top-container\"><div class=\"sk-text-repr-fallback\"><pre>SimpleImputer(strategy=&#x27;median&#x27;)</pre><b>In a Jupyter environment, please rerun this cell to show the HTML representation or trust the notebook. <br />On GitHub, the HTML representation is unable to render, please try loading this page with nbviewer.org.</b></div><div class=\"sk-container\" hidden><div class=\"sk-item\"><div class=\"sk-estimator sk-toggleable\"><input class=\"sk-toggleable__control sk-hidden--visually\" id=\"sk-estimator-id-7\" type=\"checkbox\" checked><label for=\"sk-estimator-id-7\" class=\"sk-toggleable__label sk-toggleable__label-arrow\">SimpleImputer</label><div class=\"sk-toggleable__content\"><pre>SimpleImputer(strategy=&#x27;median&#x27;)</pre></div></div></div></div></div>"
      ],
      "text/plain": [
       "SimpleImputer(strategy='median')"
      ]
     },
     "execution_count": 184,
     "metadata": {},
     "output_type": "execute_result"
    }
   ],
   "source": [
    "#\n",
    "# 위를 사용하려면 일단 type이 number인것들을 추려내서 적용해야 함. 다음과 같이 할 수 있다\n",
    "# fit은 transform에 필요한 계산을 한다\n",
    "# transform은 실제 대체를 한다\n",
    "#\n",
    "predictor_numtype = predictor.select_dtypes(include=[numpy.number])\n",
    "imputer.fit(predictor_numtype)"
   ]
  },
  {
   "cell_type": "code",
   "execution_count": 185,
   "id": "6ede2cf8",
   "metadata": {},
   "outputs": [
    {
     "name": "stdout",
     "output_type": "stream",
     "text": [
      "[-118.51     34.26     29.     2125.      434.     1167.      408.\n",
      "    3.5385]\n",
      "[-118.51     34.26     29.     2125.      434.     1167.      408.\n",
      "    3.5385]\n"
     ]
    }
   ],
   "source": [
    "# imputer가 계산한게 DataFrame의 median과 일치하는지 확인시켜주는 코드\n",
    "print(imputer.statistics_)\n",
    "print(predictor_numtype.median().values)"
   ]
  },
  {
   "cell_type": "code",
   "execution_count": 186,
   "id": "439b45f4",
   "metadata": {},
   "outputs": [
    {
     "name": "stdout",
     "output_type": "stream",
     "text": [
      "<class 'numpy.ndarray'>\n",
      "<class 'pandas.core.frame.DataFrame'>\n",
      "Int64Index: 16512 entries, 13096 to 19888\n",
      "Data columns (total 8 columns):\n",
      " #   Column              Non-Null Count  Dtype  \n",
      "---  ------              --------------  -----  \n",
      " 0   longitude           16512 non-null  float64\n",
      " 1   latitude            16512 non-null  float64\n",
      " 2   housing_median_age  16512 non-null  float64\n",
      " 3   total_rooms         16512 non-null  float64\n",
      " 4   total_bedrooms      16512 non-null  float64\n",
      " 5   population          16512 non-null  float64\n",
      " 6   households          16512 non-null  float64\n",
      " 7   median_income       16512 non-null  float64\n",
      "dtypes: float64(8)\n",
      "memory usage: 1.1 MB\n"
     ]
    }
   ],
   "source": [
    "# 실제 대체가 이루어 지는 곳은 transform\n",
    "X = imputer.transform(predictor_numtype)\n",
    "print(type(X)) # 그런데 impute는 numpy.ndarray를 리턴함\n",
    "\n",
    "# 따라서 이걸 쓰기 편한 DataFrame으로 변환한다\n",
    "predictor_numtype = pandas.DataFrame(X, columns = predictor_numtype.columns, index = predictor_numtype.index)\n",
    "predictor_numtype.info() # 이제 모두 Non-Null이 된것을 볼 수 있다"
   ]
  },
  {
   "cell_type": "markdown",
   "id": "7f161da8",
   "metadata": {},
   "source": [
    "# Category Encoding"
   ]
  },
  {
   "cell_type": "markdown",
   "id": "d54c3956",
   "metadata": {},
   "source": [
    "- ocean_proximity 같은 경우 string 으로 되어 있다\n",
    "- 기본적으로 이런 데이터를 category라고 하는데, 원활한 machine learning을 위해서는 수치화가 필요하다\n",
    "- low, below average, average, above average, high 뭐 이런식으로 연관이 되어 있는 거면 각각 1,2,3,4,5 이런식으로 매핑할수도 있다\n",
    "- 카테고리는 있는데 이게 linear relationship을 갖고 있지 않다면 그냥 유/무를 bit로 표현할수도 있다. one-hot encoding이라고도 한다\n",
    "- 여기서는 one-hot encoding을 사용해 본다"
   ]
  },
  {
   "cell_type": "code",
   "execution_count": 187,
   "id": "00e24499",
   "metadata": {},
   "outputs": [
    {
     "data": {
      "text/plain": [
       "<1H OCEAN     7274\n",
       "INLAND        5301\n",
       "NEAR OCEAN    2089\n",
       "NEAR BAY      1846\n",
       "ISLAND           2\n",
       "Name: ocean_proximity, dtype: int64"
      ]
     },
     "execution_count": 187,
     "metadata": {},
     "output_type": "execute_result"
    }
   ],
   "source": [
    "predictor['ocean_proximity'].value_counts()"
   ]
  },
  {
   "cell_type": "code",
   "execution_count": 188,
   "id": "9d350ffa",
   "metadata": {},
   "outputs": [
    {
     "name": "stdout",
     "output_type": "stream",
     "text": [
      "<class 'pandas.core.frame.DataFrame'>\n"
     ]
    }
   ],
   "source": [
    "# Series가 아니라 DataFrame으로 return 시키기 위해 [[]] 를 사용\n",
    "predictor_category = predictor[['ocean_proximity']]\n",
    "print(type(predictor_category))"
   ]
  },
  {
   "cell_type": "code",
   "execution_count": 189,
   "id": "7bb640da",
   "metadata": {},
   "outputs": [
    {
     "data": {
      "text/plain": [
       "array([[3.],\n",
       "       [0.],\n",
       "       [1.],\n",
       "       ...,\n",
       "       [4.],\n",
       "       [0.],\n",
       "       [4.]])"
      ]
     },
     "execution_count": 189,
     "metadata": {},
     "output_type": "execute_result"
    }
   ],
   "source": [
    "#\n",
    "# Ordinal encoding은 말 그대로 category를 숫자에 대응 시키는 방법이다\n",
    "# 여기에서는 one-hot encoding 을 주로 다루겠지만 일단 ordinal encoding은 이렇게 사용한다는 것을 남기기 위해 코드를 써둠\n",
    "#\n",
    "ordinal = sklearn.preprocessing.OrdinalEncoder()\n",
    "predictor_category_ordinal = ordinal.fit_transform(predictor_category)\n",
    "predictor_category_ordinal"
   ]
  },
  {
   "cell_type": "code",
   "execution_count": 190,
   "id": "da231425",
   "metadata": {},
   "outputs": [
    {
     "name": "stdout",
     "output_type": "stream",
     "text": [
      "<class 'scipy.sparse._csr.csr_matrix'>\n"
     ]
    },
    {
     "data": {
      "text/plain": [
       "array([[0., 0., 0., 1., 0.],\n",
       "       [1., 0., 0., 0., 0.],\n",
       "       [0., 1., 0., 0., 0.],\n",
       "       ...,\n",
       "       [0., 0., 0., 0., 1.],\n",
       "       [1., 0., 0., 0., 0.],\n",
       "       [0., 0., 0., 0., 1.]])"
      ]
     },
     "execution_count": 190,
     "metadata": {},
     "output_type": "execute_result"
    }
   ],
   "source": [
    "onehot = sklearn.preprocessing.OneHotEncoder()\n",
    "predictor_category_1hot = onehot.fit_transform(predictor_category)\n",
    "# return type이 dense matrix가 아닌 sparse matrix임\n",
    "print(type(predictor_category_1hot))  \n",
    "# dense matrix로 변환 하려면 이렇게 하면 된다\n",
    "predictor_category_1hot.toarray()"
   ]
  },
  {
   "cell_type": "code",
   "execution_count": 191,
   "id": "aaa2f664",
   "metadata": {},
   "outputs": [
    {
     "data": {
      "text/plain": [
       "array([[0., 0., 0., 1., 0.],\n",
       "       [1., 0., 0., 0., 0.],\n",
       "       [0., 1., 0., 0., 0.],\n",
       "       ...,\n",
       "       [0., 0., 0., 0., 1.],\n",
       "       [1., 0., 0., 0., 0.],\n",
       "       [0., 0., 0., 0., 1.]])"
      ]
     },
     "execution_count": 191,
     "metadata": {},
     "output_type": "execute_result"
    }
   ],
   "source": [
    "# 처음부터 dense matrix를 만드는게 목표인 경우 (현재 그렇다) 다음과 같이 할 수도 있다\n",
    "onehot = sklearn.preprocessing.OneHotEncoder( sparse_output = False )\n",
    "predictor_category_1hot = onehot.fit_transform(predictor_category)\n",
    "predictor_category_1hot"
   ]
  },
  {
   "cell_type": "code",
   "execution_count": 192,
   "id": "7eacd9e5",
   "metadata": {},
   "outputs": [
    {
     "name": "stdout",
     "output_type": "stream",
     "text": [
      "[array(['<1H OCEAN', 'INLAND', 'ISLAND', 'NEAR BAY', 'NEAR OCEAN'],\n",
      "      dtype=object)]\n",
      "\n",
      "   ocean_proximity_INLAND  ocean_proximity_NEAR BAY\n",
      "0                       1                         0\n",
      "1                       0                         1\n",
      "\n",
      "[[0. 1. 0. 0. 0.]\n",
      " [0. 0. 0. 1. 0.]]\n"
     ]
    }
   ],
   "source": [
    "#\n",
    "# sklearn.preprocessing.OneHotEncoder의 좋은 점은 한 데이터에 fit 해두면 다른 데이터에도 동일한 형태로 transform해준다는 것이다\n",
    "# pandas.get_dummies는 OneHotEncoder와 비슷한 일을 해 주는데 대신 그때그때 있는 데이터로 category to number transformation을 하지\n",
    "# 이전의 transformation을 갖고와서 그대로 쓰지 않기 때문에 매번 category화 한 결과가 달라질 수 있다\n",
    "# 아래의 예를 보면 대충 이해가 될 듯. 말로 설명하기 힘드네\n",
    "\n",
    "print(onehot.categories_)\n",
    "print()\n",
    "\n",
    "another_data = pandas.DataFrame({\"ocean_proximity\" : [\"INLAND\", \"NEAR BAY\"]})\n",
    "\n",
    "print(pandas.get_dummies(another_data))\n",
    "print()\n",
    "\n",
    "onehot.handle_unknown = 'ignore'\n",
    "another_data_result = onehot.transform(another_data)\n",
    "print(another_data_result) # 이 결과를 보면 원래 갖고 있던 category to bit mapping 방법에 따라 mapping했다. 즉 빈칸 수가 같다"
   ]
  },
  {
   "cell_type": "code",
   "execution_count": 193,
   "id": "380ad75f",
   "metadata": {},
   "outputs": [
    {
     "name": "stdout",
     "output_type": "stream",
     "text": [
      "['ocean_proximity']\n",
      "\n",
      "['ocean_proximity_<1H OCEAN' 'ocean_proximity_INLAND'\n",
      " 'ocean_proximity_ISLAND' 'ocean_proximity_NEAR BAY'\n",
      " 'ocean_proximity_NEAR OCEAN']\n"
     ]
    }
   ],
   "source": [
    "#\n",
    "# DataFrame을 Scikit-Learn의 Estimator fit에 사용하면 estimator는 언제나 feature_names_in_ 에 column name을 남긴다\n",
    "# 즉 이후에 다른 자료를 Fit할때에도 같은 column 구조를 이렇게 보고 사용하면 된다\n",
    "#\n",
    "print(onehot.feature_names_in_)\n",
    "print()\n",
    "\n",
    "#\n",
    "# 반대로 fit한결과로 사용한 column name은 feature_names_out에 들어가 있다\n",
    "# 나중에 DataFrame에 반영할때 이것을 사용하면 될 것이다\n",
    "#\n",
    "print(onehot.get_feature_names_out())"
   ]
  }
 ],
 "metadata": {
  "kernelspec": {
   "display_name": "Python 3 (ipykernel)",
   "language": "python",
   "name": "python3"
  },
  "language_info": {
   "codemirror_mode": {
    "name": "ipython",
    "version": 3
   },
   "file_extension": ".py",
   "mimetype": "text/x-python",
   "name": "python",
   "nbconvert_exporter": "python",
   "pygments_lexer": "ipython3",
   "version": "3.9.12"
  }
 },
 "nbformat": 4,
 "nbformat_minor": 5
}
