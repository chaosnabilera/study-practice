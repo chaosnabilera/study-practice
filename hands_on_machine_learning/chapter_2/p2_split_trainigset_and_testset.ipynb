{
 "cells": [
  {
   "cell_type": "markdown",
   "id": "e192c659",
   "metadata": {},
   "source": [
    "## 2. Training set과 Test set 나누기\n",
    "\n",
    "- github colab : https://homl.info/colab3"
   ]
  },
  {
   "cell_type": "code",
   "execution_count": 1,
   "id": "f48e78e0",
   "metadata": {},
   "outputs": [
    {
     "name": "stdout",
     "output_type": "stream",
     "text": [
      "output_dir : images\\end_to_end_project\n"
     ]
    }
   ],
   "source": [
    "import matplotlib\n",
    "import numpy\n",
    "import pathlib\n",
    "import pandas\n",
    "import tarfile\n",
    "import urllib\n",
    "\n",
    "def ch2_load_housing_data():\n",
    "    tarball_path = pathlib.Path(\"datasets/housing.tgz\")\n",
    "    if not tarball_path.is_file():\n",
    "        pathlib.Path(\"datasets\").mkdir(parents=True, exist_ok=True)\n",
    "        url = \"https://github.com/ageron/data/raw/main/housing.tgz\"\n",
    "        urllib.request.urlretrieve(url, tarball_path)\n",
    "        with tarfile.open(tarball_path) as housing_tarball:\n",
    "            housing_tarball.extractall(path=\"datasets\")\n",
    "    return pandas.read_csv(pathlib.Path(\"datasets/housing/housing.csv\"))\n",
    "\n",
    "def matplotlib_to_imagefile(output_dir, filename, imgext=\"png\", tight_layout=True, resolution=300):\n",
    "    path = output_dir / f\"{filename}.{imgext}\"\n",
    "    if tight_layout:\n",
    "        matplotlib.pyplot.tight_layout()\n",
    "    matplotlib.pyplot.savefig(path, format=imgext, dpi=resolution)\n",
    "    \n",
    "# 저장할 디렉토리 설정\n",
    "output_dir = pathlib.Path() / \"images\" / \"end_to_end_project\"\n",
    "output_dir.mkdir(parents=True, exist_ok=True)\n",
    "print(f'output_dir : {output_dir}')\n",
    "\n",
    "input_dataframe = ch2_load_housing_data()"
   ]
  },
  {
   "cell_type": "markdown",
   "id": "b66f088d",
   "metadata": {},
   "source": [
    "## Training set과 Test set을 나눠야 하는 이유\n",
    "\n",
    "- 우리가 머신러닝에서 원하는 건 '이 데이터를 잘 설명하는 모델'을 원하는게 아니고 '새로운 데이터가 들어왔을때에도 잘 작동하는 모델'을 원하는 것이다\n",
    "- Test set은 바로 저 '새로운 데이터'에 해당하는 것임\n",
    "- Test set까지 모두 training을 시켰다가는 overfitting 의 함정에 빠지게 된다"
   ]
  },
  {
   "cell_type": "code",
   "execution_count": 2,
   "id": "5e9b562c",
   "metadata": {},
   "outputs": [
    {
     "name": "stdout",
     "output_type": "stream",
     "text": [
      "train_set : 16512    test_set : 4128\n"
     ]
    }
   ],
   "source": [
    "# 자체적으로 비율 맞춰서 random 하게 고르도록 짜기\n",
    "\n",
    "def shuffle_and_split_data(data, test_ratio):\n",
    "    shuffled_indices = numpy.random.permutation(len(data))\n",
    "    test_set_size = int(len(data) * test_ratio)\n",
    "    test_indices = shuffled_indices[:test_set_size]\n",
    "    train_indices = shuffled_indices[test_set_size:]\n",
    "    return data.iloc[train_indices], data.iloc[test_indices]\n",
    "\n",
    "numpy.random.seed(42) # seed를 고정하면 매번 같은 난수가 나옴. 이게 의도일수도 있음\n",
    "train_set, test_set = shuffle_and_split_data(input_dataframe, 0.2)\n",
    "\n",
    "print(f'train_set : {len(train_set)}    test_set : {len(test_set)}')"
   ]
  },
  {
   "cell_type": "code",
   "execution_count": 3,
   "id": "87de9c2d",
   "metadata": {},
   "outputs": [
    {
     "name": "stdout",
     "output_type": "stream",
     "text": [
      "train_set : 16512    test_set : 4128\n"
     ]
    }
   ],
   "source": [
    "# scikit-learn 사용해서 split 하기\n",
    "import sklearn\n",
    "import sklearn.model_selection\n",
    "\n",
    "# train_set_split에 stratify 옵션을 주면 stratified sampling도 할 수 있음\n",
    "train_set, test_set = sklearn.model_selection.train_test_split(input_dataframe, test_size = 0.2, random_state = 42)\n",
    "\n",
    "print(f'train_set : {len(train_set)}    test_set : {len(test_set)}')"
   ]
  },
  {
   "cell_type": "markdown",
   "id": "dd16ebc8",
   "metadata": {},
   "source": [
    "### Stratified sampling을 써야 하는 이유\n",
    "\n",
    "- 위의 shuffle_and_split_data 처럼 구현해도 되긴 하는데 저렇게 하면 sample이 population을 bias할 수 있다\n",
    "- 예를 들어 population에서 A:B의 비율이 3:7 정도라면 training set에서의 A:B의 비율도 3:7 정도여야 학습하는 데이터와 현실 사이의 괴리가 적을 것이다\n",
    "- 그런데 이걸 그냥 random에 맡기면 3:7에서 크게 멀어지진 않겠지만 꽤 다르게 나올 수 있음\n",
    "- Stratified sampling을 쓰면 저런 비율에서 크게 deviate하지 않으면서 random하게 sampling할 수 있다 (물론 sammple의 크기가 충분히 커야 하긴 함)"
   ]
  },
  {
   "cell_type": "code",
   "execution_count": 4,
   "id": "cd07b8d4",
   "metadata": {},
   "outputs": [
    {
     "name": "stdout",
     "output_type": "stream",
     "text": [
      "1: 822\n",
      "2: 6581\n",
      "3: 7236\n",
      "4: 3639\n",
      "5: 2362\n"
     ]
    },
    {
     "data": {
      "image/png": "[encoded data removed]",
      "text/plain": [
       "<Figure size 640x480 with 1 Axes>"
      ]
     },
     "metadata": {},
     "output_type": "display_data"
    }
   ],
   "source": [
    "#\n",
    "# pandas.cut은 value를 discrete interval로 bin 한다. value를 category화 한다고 볼 수도 있다\n",
    "#\n",
    "\n",
    "# input_dataframe에 income_cat column을 만든다\n",
    "input_dataframe[\"income_cat\"] = pandas.cut(input_dataframe[\"median_income\"],\n",
    "                               bins=[0., 1.5, 3.0, 4.5, 6., numpy.inf],\n",
    "                               labels=[1, 2, 3, 4, 5])\n",
    "\n",
    "# value_counts는 Series를 리턴\n",
    "stat = input_dataframe['income_cat'].value_counts().sort_index()\n",
    "\n",
    "for k in stat.index:\n",
    "    print(f'{k}: {stat[k]}')\n",
    "    \n",
    "input_dataframe[\"income_cat\"].value_counts().sort_index().plot.bar(rot=0, grid=True)\n",
    "\n",
    "matplotlib.pyplot.xlabel(\"Income category\")\n",
    "matplotlib.pyplot.ylabel(\"Number of districts\")\n",
    "matplotlib_to_imagefile(output_dir, \"housing_income_cat_bar_plot\")  # extra code\n",
    "matplotlib.pyplot.show()"
   ]
  },
  {
   "cell_type": "code",
   "execution_count": 5,
   "id": "e746f7fc",
   "metadata": {},
   "outputs": [
    {
     "name": "stdout",
     "output_type": "stream",
     "text": [
      "10\n"
     ]
    }
   ],
   "source": [
    "#\n",
    "# 우리의 sample이 income category의 비율을 맞춰서 sampling할 수 있도록 scikit-learn의 StratifiedShuffleSplit을 사용한다\n",
    "#\n",
    "strat_splitter = sklearn.model_selection.StratifiedShuffleSplit(n_splits=10, test_size=0.2, random_state=42)\n",
    "strat_splits = []\n",
    "\n",
    "for train_index, test_index in strat_splitter.split(input_dataframe, input_dataframe['income_cat']):\n",
    "    # train_index, test_index에는 index의 list가 들어가 있다\n",
    "    # input_dataframe.ilog[[3,6,9]] 이렇게 하면 input_dataframe의 row 3,6,9를 이어 만든 DataFrame이 리턴된다\n",
    "    s_train, s_test = input_dataframe.iloc[train_index], input_dataframe.iloc[test_index]\n",
    "    strat_splits.append([s_train, s_test])\n",
    "\n",
    "# n_splits = 10 을 주었기 때문에 10이 나온다\n",
    "print(len(strat_splits))"
   ]
  },
  {
   "cell_type": "code",
   "execution_count": 6,
   "id": "f2cc8c68",
   "metadata": {},
   "outputs": [],
   "source": [
    "# 1개의 split만 있다면 훨씬 간단한 방법으로 얻을 수 있다\n",
    "\n",
    "s_train, s_test = sklearn.model_selection.train_test_split(input_dataframe, test_size = 0.2, stratify = input_dataframe['income_cat'], random_state = 42)"
   ]
  },
  {
   "cell_type": "code",
   "execution_count": 7,
   "id": "0979a1d3",
   "metadata": {},
   "outputs": [
    {
     "data": {
      "text/html": [
       "<div>\n",
       "<style scoped>\n",
       "    .dataframe tbody tr th:only-of-type {\n",
       "        vertical-align: middle;\n",
       "    }\n",
       "\n",
       "    .dataframe tbody tr th {\n",
       "        vertical-align: top;\n",
       "    }\n",
       "\n",
       "    .dataframe thead th {\n",
       "        text-align: right;\n",
       "    }\n",
       "</style>\n",
       "<table border=\"1\" class=\"dataframe\">\n",
       "  <thead>\n",
       "    <tr style=\"text-align: right;\">\n",
       "      <th></th>\n",
       "      <th>Overall %</th>\n",
       "      <th>Stratified %</th>\n",
       "      <th>Random %</th>\n",
       "      <th>Strat. Error %</th>\n",
       "      <th>Rand. Error %</th>\n",
       "    </tr>\n",
       "    <tr>\n",
       "      <th>Income Category</th>\n",
       "      <th></th>\n",
       "      <th></th>\n",
       "      <th></th>\n",
       "      <th></th>\n",
       "      <th></th>\n",
       "    </tr>\n",
       "  </thead>\n",
       "  <tbody>\n",
       "    <tr>\n",
       "      <th>1</th>\n",
       "      <td>3.98</td>\n",
       "      <td>3.98</td>\n",
       "      <td>3.95</td>\n",
       "      <td>-0.09</td>\n",
       "      <td>-0.70</td>\n",
       "    </tr>\n",
       "    <tr>\n",
       "      <th>2</th>\n",
       "      <td>31.88</td>\n",
       "      <td>31.89</td>\n",
       "      <td>31.66</td>\n",
       "      <td>0.00</td>\n",
       "      <td>-0.70</td>\n",
       "    </tr>\n",
       "    <tr>\n",
       "      <th>3</th>\n",
       "      <td>35.06</td>\n",
       "      <td>35.06</td>\n",
       "      <td>35.13</td>\n",
       "      <td>0.00</td>\n",
       "      <td>0.19</td>\n",
       "    </tr>\n",
       "    <tr>\n",
       "      <th>4</th>\n",
       "      <td>17.63</td>\n",
       "      <td>17.63</td>\n",
       "      <td>17.53</td>\n",
       "      <td>-0.01</td>\n",
       "      <td>-0.56</td>\n",
       "    </tr>\n",
       "    <tr>\n",
       "      <th>5</th>\n",
       "      <td>11.44</td>\n",
       "      <td>11.45</td>\n",
       "      <td>11.72</td>\n",
       "      <td>0.02</td>\n",
       "      <td>2.46</td>\n",
       "    </tr>\n",
       "  </tbody>\n",
       "</table>\n",
       "</div>"
      ],
      "text/plain": [
       "                 Overall %  Stratified %  Random %  Strat. Error %  \\\n",
       "Income Category                                                      \n",
       "1                     3.98          3.98      3.95           -0.09   \n",
       "2                    31.88         31.89     31.66            0.00   \n",
       "3                    35.06         35.06     35.13            0.00   \n",
       "4                    17.63         17.63     17.53           -0.01   \n",
       "5                    11.44         11.45     11.72            0.02   \n",
       "\n",
       "                 Rand. Error %  \n",
       "Income Category                 \n",
       "1                        -0.70  \n",
       "2                        -0.70  \n",
       "3                         0.19  \n",
       "4                        -0.56  \n",
       "5                         2.46  "
      ]
     },
     "execution_count": 7,
     "metadata": {},
     "output_type": "execute_result"
    }
   ],
   "source": [
    "#\n",
    "# Random vs Stratified\n",
    "#\n",
    "\n",
    "r_train, r_test = sklearn.model_selection.train_test_split(input_dataframe, test_size = 0.2)\n",
    "s_train, s_test = sklearn.model_selection.train_test_split(input_dataframe, test_size = 0.2, stratify = input_dataframe['income_cat'])\n",
    "\n",
    "cmperr = pandas.DataFrame({\n",
    "    'Overall %'    : input_dataframe['income_cat'].value_counts() / len(input_dataframe),\n",
    "    'Stratified %' : s_train['income_cat'].value_counts() / len(s_train),\n",
    "    'Random %'     : r_train['income_cat'].value_counts() / len(r_train),\n",
    "}).sort_index()\n",
    "\n",
    "cmperr.index.name = 'Income Category'\n",
    "cmperr['Strat. Error %'] = (cmperr['Stratified %'] / cmperr['Overall %'] - 1)\n",
    "cmperr['Rand. Error %']  = (cmperr['Random %']     / cmperr['Overall %'] - 1)\n",
    "cmperr = (cmperr * 100).round(2)\n",
    "\n",
    "cmperr"
   ]
  },
  {
   "cell_type": "code",
   "execution_count": 8,
   "id": "215f1d96",
   "metadata": {},
   "outputs": [],
   "source": [
    "#\n",
    "# Stratified sampling을 했으면 이젠 income_cat은 필요없다\n",
    "# 남겨놔 봐야 learning에 혼선만 줄 수 있으니 지워 버리자\n",
    "# inplace가 False라면 적용된 copy를 리턴함. 아니면 None을 리턴하고 in-place 적용\n",
    "#\n",
    "s_train.drop('income_cat', axis=1, inplace=True)\n",
    "s_test.drop('income_cat', axis=1, inplace=True)\n",
    "\n",
    "# 여기서 부터는 이것을 사용한다\n",
    "train = s_train.copy()\n",
    "test = s_test.copy()"
   ]
  }
 ],
 "metadata": {
  "kernelspec": {
   "display_name": "Python 3 (ipykernel)",
   "language": "python",
   "name": "python3"
  },
  "language_info": {
   "codemirror_mode": {
    "name": "ipython",
    "version": 3
   },
   "file_extension": ".py",
   "mimetype": "text/x-python",
   "name": "python",
   "nbconvert_exporter": "python",
   "pygments_lexer": "ipython3",
   "version": "3.9.12"
  }
 },
 "nbformat": 4,
 "nbformat_minor": 5
}
