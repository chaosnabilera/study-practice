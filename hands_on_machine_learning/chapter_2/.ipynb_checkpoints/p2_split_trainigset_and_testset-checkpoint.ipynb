{
 "cells": [
  {
   "cell_type": "markdown",
   "id": "354de631",
   "metadata": {},
   "source": [
    "## 2. Training set과 Test set 나누기\n",
    "\n",
    "- github colab : https://homl.info/colab3"
   ]
  },
  {
   "cell_type": "code",
   "execution_count": 18,
   "id": "d3a57ac7",
   "metadata": {},
   "outputs": [],
   "source": [
    "import matplotlib\n",
    "import numpy\n",
    "import pathlib\n",
    "import pandas\n",
    "import tarfile\n",
    "import urllib\n",
    "\n",
    "def ch2_load_housing_data():\n",
    "    tarball_path = pathlib.Path(\"datasets/housing.tgz\")\n",
    "    if not tarball_path.is_file():\n",
    "        pathlib.Path(\"datasets\").mkdir(parents=True, exist_ok=True)\n",
    "        url = \"https://github.com/ageron/data/raw/main/housing.tgz\"\n",
    "        urllib.request.urlretrieve(url, tarball_path)\n",
    "        with tarfile.open(tarball_path) as housing_tarball:\n",
    "            housing_tarball.extractall(path=\"datasets\")\n",
    "    return pandas.read_csv(pathlib.Path(\"datasets/housing/housing.csv\"))\n",
    "\n",
    "def matplotlib_to_imagefile(output_dir, filename, imgext=\"png\", tight_layout=True, resolution=300):\n",
    "    path = output_dir / f\"{filename}.{imgext}\"\n",
    "    if tight_layout:\n",
    "        matplotlib.pyplot.tight_layout()\n",
    "    matplotlib.pyplot.savefig(path, format=imgext, dpi=resolution)\n",
    "    \n",
    "# 저장할 디렉토리 설정\n",
    "output_dir = pathlib.Path() / \"images\" / \"end_to_end_project\"\n",
    "output_dir.mkdir(parents=True, exist_ok=True)\n",
    "print(f'output_dir : {output_dir}')\n",
    "\n",
    "input_dataframe = ch2_load_housing_data()"
   ]
  },
  {
   "cell_type": "code",
   "execution_count": 19,
   "id": "0cf54fa9",
   "metadata": {},
   "outputs": [
    {
     "name": "stdout",
     "output_type": "stream",
     "text": [
      "train_set : 16512    test_set : 4128\n"
     ]
    }
   ],
   "source": [
    "# 자체적으로 비율 맞춰서 random 하게 고르도록 짜기\n",
    "\n",
    "def shuffle_and_split_data(data, test_ratio):\n",
    "    shuffled_indices = numpy.random.permutation(len(data))\n",
    "    test_set_size = int(len(data) * test_ratio)\n",
    "    test_indices = shuffled_indices[:test_set_size]\n",
    "    train_indices = shuffled_indices[test_set_size:]\n",
    "    return data.iloc[train_indices], data.iloc[test_indices]\n",
    "\n",
    "numpy.random.seed(42) # seed를 고정하면 매번 같은 난수가 나옴. 이게 의도일수도 있음\n",
    "train_set, test_set = shuffle_and_split_data(input_dataframe, 0.2)\n",
    "\n",
    "print(f'train_set : {len(train_set)}    test_set : {len(test_set)}')"
   ]
  },
  {
   "cell_type": "markdown",
   "id": "fd0f1dca",
   "metadata": {},
   "source": [
    "### Stratified sampling을 써야 하는 이유\n",
    "\n",
    "- 위의 shuffle_and_split_data 처럼 구현해도 되긴 하는데 저렇게 하면 sample이 population을 bias할 수 있다\n",
    "- 예를 들어 population에서 A:B의 비율이 3:7 정도라면 training set에서의 A:B의 비율도 3:7 정도여야 학습하는 데이터와 현실 사이의 괴리가 적을 것이다\n",
    "- 그런데 이걸 그냥 random에 맡기면 3:7에서 크게 멀어지진 않겠지만 꽤 다르게 나올 수 있음\n",
    "- Stratified sampling을 쓰면 저런 비율에서 크게 deviate하지 않으면서 random하게 sampling할 수 있다 (물론 sammple의 크기가 충분히 커야 하긴 함)"
   ]
  },
  {
   "cell_type": "code",
   "execution_count": 20,
   "id": "7417fb3f",
   "metadata": {},
   "outputs": [
    {
     "ename": "TypeError",
     "evalue": "matplotlib_to_imagefile() missing 1 required positional argument: 'filename'",
     "output_type": "error",
     "traceback": [
      "\u001b[1;31m---------------------------------------------------------------------------\u001b[0m",
      "\u001b[1;31mTypeError\u001b[0m                                 Traceback (most recent call last)",
      "\u001b[1;32m~\\AppData\\Local\\Temp\\ipykernel_8324\\2737980315.py\u001b[0m in \u001b[0;36m<module>\u001b[1;34m\u001b[0m\n\u001b[0;32m     11\u001b[0m \u001b[0mmatplotlib\u001b[0m\u001b[1;33m.\u001b[0m\u001b[0mpyplot\u001b[0m\u001b[1;33m.\u001b[0m\u001b[0mxlabel\u001b[0m\u001b[1;33m(\u001b[0m\u001b[1;34m\"Income category\"\u001b[0m\u001b[1;33m)\u001b[0m\u001b[1;33m\u001b[0m\u001b[1;33m\u001b[0m\u001b[0m\n\u001b[0;32m     12\u001b[0m \u001b[0mmatplotlib\u001b[0m\u001b[1;33m.\u001b[0m\u001b[0mpyplot\u001b[0m\u001b[1;33m.\u001b[0m\u001b[0mylabel\u001b[0m\u001b[1;33m(\u001b[0m\u001b[1;34m\"Number of districts\"\u001b[0m\u001b[1;33m)\u001b[0m\u001b[1;33m\u001b[0m\u001b[1;33m\u001b[0m\u001b[0m\n\u001b[1;32m---> 13\u001b[1;33m \u001b[0mmatplotlib_to_imagefile\u001b[0m\u001b[1;33m(\u001b[0m\u001b[1;34m\"housing_income_cat_bar_plot\"\u001b[0m\u001b[1;33m)\u001b[0m  \u001b[1;31m# extra code\u001b[0m\u001b[1;33m\u001b[0m\u001b[1;33m\u001b[0m\u001b[0m\n\u001b[0m\u001b[0;32m     14\u001b[0m \u001b[0mmatplotlib\u001b[0m\u001b[1;33m.\u001b[0m\u001b[0mpyplot\u001b[0m\u001b[1;33m.\u001b[0m\u001b[0mshow\u001b[0m\u001b[1;33m(\u001b[0m\u001b[1;33m)\u001b[0m\u001b[1;33m\u001b[0m\u001b[1;33m\u001b[0m\u001b[0m\n",
      "\u001b[1;31mTypeError\u001b[0m: matplotlib_to_imagefile() missing 1 required positional argument: 'filename'"
     ]
    },
    {
     "data": {
      "image/png": "[encoded data removed]",
      "text/plain": [
       "<Figure size 640x480 with 1 Axes>"
      ]
     },
     "metadata": {},
     "output_type": "display_data"
    }
   ],
   "source": [
    "#\n",
    "# pandas.cut은 value를 discrete interval로 bin 한다. value를 category화 한다고 볼 수도 있다\n",
    "#\n",
    "\n",
    "# input_dataframe에 income_cat column을 만든다\n",
    "input_dataframe[\"income_cat\"] = pandas.cut(input_dataframe[\"median_income\"],\n",
    "                               bins=[0., 1.5, 3.0, 4.5, 6., numpy.inf],\n",
    "                               labels=[1, 2, 3, 4, 5])\n",
    "\n",
    "input_dataframe[\"income_cat\"].value_counts().sort_index().plot.bar(rot=0, grid=True)\n",
    "matplotlib.pyplot.xlabel(\"Income category\")\n",
    "matplotlib.pyplot.ylabel(\"Number of districts\")\n",
    "matplotlib_to_imagefile(\"housing_income_cat_bar_plot\")  # extra code\n",
    "matplotlib.pyplot.show()"
   ]
  },
  {
   "cell_type": "code",
   "execution_count": null,
   "id": "94f95922",
   "metadata": {},
   "outputs": [],
   "source": []
  },
  {
   "cell_type": "code",
   "execution_count": null,
   "id": "9406711a",
   "metadata": {},
   "outputs": [],
   "source": []
  },
  {
   "cell_type": "code",
   "execution_count": null,
   "id": "ca4cd8ab",
   "metadata": {},
   "outputs": [],
   "source": []
  },
  {
   "cell_type": "code",
   "execution_count": null,
   "id": "6c0e7a62",
   "metadata": {},
   "outputs": [],
   "source": []
  },
  {
   "cell_type": "code",
   "execution_count": null,
   "id": "4e050ee0",
   "metadata": {},
   "outputs": [],
   "source": []
  },
  {
   "cell_type": "code",
   "execution_count": null,
   "id": "c4f3f187",
   "metadata": {},
   "outputs": [],
   "source": []
  },
  {
   "cell_type": "code",
   "execution_count": null,
   "id": "914c2842",
   "metadata": {},
   "outputs": [],
   "source": []
  },
  {
   "cell_type": "code",
   "execution_count": null,
   "id": "92f0f82c",
   "metadata": {},
   "outputs": [],
   "source": []
  },
  {
   "cell_type": "code",
   "execution_count": null,
   "id": "5d5f3d1b",
   "metadata": {},
   "outputs": [],
   "source": []
  },
  {
   "cell_type": "code",
   "execution_count": null,
   "id": "b2972f5b",
   "metadata": {},
   "outputs": [],
   "source": []
  },
  {
   "cell_type": "code",
   "execution_count": null,
   "id": "5955f4e8",
   "metadata": {},
   "outputs": [],
   "source": []
  },
  {
   "cell_type": "code",
   "execution_count": null,
   "id": "0e0018b1",
   "metadata": {},
   "outputs": [],
   "source": []
  },
  {
   "cell_type": "code",
   "execution_count": null,
   "id": "b9c5f1e6",
   "metadata": {},
   "outputs": [],
   "source": []
  },
  {
   "cell_type": "code",
   "execution_count": null,
   "id": "882e38b6",
   "metadata": {},
   "outputs": [],
   "source": []
  },
  {
   "cell_type": "code",
   "execution_count": null,
   "id": "24df0ad2",
   "metadata": {},
   "outputs": [],
   "source": []
  },
  {
   "cell_type": "code",
   "execution_count": null,
   "id": "dba793f7",
   "metadata": {},
   "outputs": [],
   "source": []
  },
  {
   "cell_type": "code",
   "execution_count": null,
   "id": "9b7f5ee3",
   "metadata": {},
   "outputs": [],
   "source": []
  }
 ],
 "metadata": {
  "kernelspec": {
   "display_name": "Python 3 (ipykernel)",
   "language": "python",
   "name": "python3"
  },
  "language_info": {
   "codemirror_mode": {
    "name": "ipython",
    "version": 3
   },
   "file_extension": ".py",
   "mimetype": "text/x-python",
   "name": "python",
   "nbconvert_exporter": "python",
   "pygments_lexer": "ipython3",
   "version": "3.9.12"
  }
 },
 "nbformat": 4,
 "nbformat_minor": 5
}
