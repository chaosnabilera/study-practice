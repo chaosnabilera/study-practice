{
 "cells": [
  {
   "cell_type": "markdown",
   "metadata": {},
   "source": [
    "# 한번 생각/질문/대답하고 넘어가야 할 것 같은 것들\n",
    "\n",
    "## 왜 데이터를 matrix로 받아야 하나?\n",
    "\n",
    "## 데이터를 어떻게 matrix로 변경하나?\n",
    "\n",
    "### Pandas dataframe\n",
    "- 그래서 어떻게 바꾸나?\n",
    "- 이거 어떻게 다뤄야 하나?\n",
    "   - index 다루는게 좀 희한한데 이 부분에 대해 예제 코드도 만들고 따로 정리도 좀 하자\n",
    "\n",
    "### Numpy array\n",
    "- keras에서 기본적으로 numpy array로 받는 것 같던데 이것도 다루는 방법을 대충 좀 정리를 하자\n",
    "\n",
    "## Data regularization\n",
    "- 이게 뭐고 왜 필요한가?\n",
    "- 이거 어떻게 해야 하나?\n",
    "   - scikit-learn\n",
    "   - keras의 regularization? 있는 것 같긴 한데 자세히 설명은 chapter 10에서 안되어 있었음\n",
    "\n",
    "## Sampling\n",
    "- stratified sampling 이란 무엇이고 이게 왜 필요한가?\n",
    "- scikit-learn을 이용해서 stratified sampling 하는 법\n",
    "- keras에서도 비슷한 기능이 있지 싶은데 이건 어떻게 해야 하는 거지?\n",
    "\n",
    "## Overfitting과 Underfitting\n",
    "- 각각은 대략 무엇인가? 뭐가 문제인가?\n",
    "- 이런 문제는 어떻게 피하면 좋은 걸까? 그래 보이면 어떻게 대응해야 하는 걸까?\n",
    "\n",
    "## 잘 안되면 어떻게 improve 해야 하나?\n",
    "- loss functinon / cost function\n",
    "- precision과 recall\n",
    "\n",
    "## matplotlib\n",
    "- line graph 그리기\n",
    "- 2d scattering 그리기\n",
    "- 그 외에 이런저런 그리기 예제를 좀 만들어 둬야 할 것 같다\n",
    "\n",
    "## Entropy\n",
    "- entropy란 무엇인가? ML에서 어떤때 튀어 나오나?\n",
    "- log loss란 무엇인가? cross entropy란 무엇인가?\n",
    "\n",
    "## scikit-learn으로 기초적인 conventional machine learning 써보기\n",
    "\n",
    "## keras로 기초적인 deep nerual network 만들어 보기"
   ]
  },
  {
   "cell_type": "markdown",
   "metadata": {},
   "source": []
  }
 ],
 "metadata": {
  "language_info": {
   "name": "python"
  },
  "orig_nbformat": 4
 },
 "nbformat": 4,
 "nbformat_minor": 2
}
