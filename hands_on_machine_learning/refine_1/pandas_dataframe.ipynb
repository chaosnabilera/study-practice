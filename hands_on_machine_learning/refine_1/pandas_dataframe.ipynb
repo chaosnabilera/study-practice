{
 "cells": [
  {
   "cell_type": "markdown",
   "metadata": {},
   "source": [
    "# Pandas Dataframe"
   ]
  },
  {
   "cell_type": "code",
   "execution_count": 10,
   "metadata": {},
   "outputs": [
    {
     "name": "stdout",
     "output_type": "stream",
     "text": [
      "(3, 4)\n",
      "     0    1    2    3\n",
      "0    1    2    3    4\n",
      "1   10   20   30   40\n",
      "2  100  200  300  400\n",
      "(4, 3)\n",
      "   col0  col1  col2\n",
      "0     4    40   400\n",
      "1     3    30   300\n",
      "2     2    20   200\n",
      "3     1    10   100\n"
     ]
    }
   ],
   "source": [
    "# Pandas dataframe 생성하는 법\n",
    "\n",
    "from pandas import DataFrame\n",
    "\n",
    "# list of list로 생성\n",
    "# 이 경우 각 list는 row가 된다\n",
    "raw_data_table = [[1,2,3,4],[10,20,30,40],[100,200,300,400]]\n",
    "d_t = DataFrame(raw_data_table)\n",
    "print(d_t.shape) # (row count, column count를 return)\n",
    "print(d_t)\n",
    "\n",
    "# dict로 부터 생성하기\n",
    "# 이 경우 각 value는 column이 된다... 왜 일치하게 만들지 않은 것일까? :(\n",
    "# 각 list의 크기는 같아야 한다. 안 그러면 exception 발생\n",
    "raw_data_dict = {'col0': [4, 3, 2, 1],\n",
    "                 'col1': [40, 30, 20, 10],\n",
    "                 'col2': [400, 300, 200, 100]}\n",
    "\n",
    "d_d = DataFrame(raw_data_dict)\n",
    "print(d_d.shape) # (row count, column count를 return)\n",
    "print(d_d)"
   ]
  },
  {
   "cell_type": "code",
   "execution_count": 11,
   "metadata": {},
   "outputs": [
    {
     "name": "stdout",
     "output_type": "stream",
     "text": [
      "<class 'pandas.core.series.Series'>\n",
      "0      1\n",
      "1     10\n",
      "2    100\n",
      "Name: 0, dtype: int64\n",
      "<class 'pandas.core.series.Series'>\n",
      "0    4\n",
      "1    3\n",
      "2    2\n",
      "3    1\n",
      "Name: col0, dtype: int64\n",
      "4 <class 'int'>\n",
      "3 <class 'int'>\n",
      "2 <class 'int'>\n",
      "1 <class 'int'>\n"
     ]
    }
   ],
   "source": [
    "# Dataframe을 index로 접근하면 기본적으로 column 으로 접근된다\n",
    "print(type(d_t[0]))\n",
    "print(d_t[0])\n",
    "\n",
    "print(type(d_d['col0']))\n",
    "print(d_d['col0'])\n",
    "\n",
    "for e in d_d['col0']:\n",
    "    print(e, type(e))"
   ]
  },
  {
   "cell_type": "code",
   "execution_count": 12,
   "metadata": {},
   "outputs": [
    {
     "name": "stdout",
     "output_type": "stream",
     "text": [
      "      col0  col1  col2  col3\n",
      "row0     1     2     3     4\n",
      "row1    10    20    30    40\n",
      "row2   100   200   300   400\n",
      "    c0  c1   c2\n",
      "r0   4  40  400\n",
      "r1   3  30  300\n",
      "r2   2  20  200\n",
      "r3   1  10  100\n"
     ]
    }
   ],
   "source": [
    "# dict로 부터 생성하기에서 유추할 수 있듯, 사실 row의 index도 string으로 정의할 수 있다\n",
    "# 또한 column도 덧붙여 줄 수 있다. 아래와 같은 식으로\n",
    "\n",
    "d_t = DataFrame(raw_data_table, index=['row0','row1','row2'], columns=['col0','col1','col2','col3'])\n",
    "print(d_t)\n",
    "\n",
    "# 이미 있는 것도 이런식으로 변경 가능\n",
    "d_d.index = ['r0','r1','r2','r3']\n",
    "d_d.columns = ['c0','c1','c2']\n",
    "print(d_d)"
   ]
  },
  {
   "cell_type": "code",
   "execution_count": 13,
   "metadata": {},
   "outputs": [
    {
     "name": "stdout",
     "output_type": "stream",
     "text": [
      "<class 'pandas.core.series.Series'>\n",
      "col0    1\n",
      "col1    2\n",
      "col2    3\n",
      "col3    4\n",
      "Name: row0, dtype: int64\n",
      "<class 'pandas.core.series.Series'>\n",
      "c0      4\n",
      "c1     40\n",
      "c2    400\n",
      "Name: r0, dtype: int64\n"
     ]
    }
   ],
   "source": [
    "# row의 index로 접근하려면 loc을 사용하면 된다\n",
    "print(type(d_t.loc['row0']))\n",
    "print(d_t.loc['row0'])\n",
    "\n",
    "# row의 numerical index로 접근하려면 iloc을 사용하면 된다\n",
    "print(type(d_d.iloc[0]))\n",
    "print(d_d.iloc[0])\n",
    "\n",
    "# column은 iloc같은게 없는 듯...?"
   ]
  },
  {
   "cell_type": "code",
   "execution_count": 14,
   "metadata": {},
   "outputs": [
    {
     "data": {
      "text/html": [
       "<div>\n",
       "<style scoped>\n",
       "    .dataframe tbody tr th:only-of-type {\n",
       "        vertical-align: middle;\n",
       "    }\n",
       "\n",
       "    .dataframe tbody tr th {\n",
       "        vertical-align: top;\n",
       "    }\n",
       "\n",
       "    .dataframe thead th {\n",
       "        text-align: right;\n",
       "    }\n",
       "</style>\n",
       "<table border=\"1\" class=\"dataframe\">\n",
       "  <thead>\n",
       "    <tr style=\"text-align: right;\">\n",
       "      <th></th>\n",
       "      <th>c0</th>\n",
       "      <th>c1</th>\n",
       "      <th>c2</th>\n",
       "    </tr>\n",
       "  </thead>\n",
       "  <tbody>\n",
       "    <tr>\n",
       "      <th>r0</th>\n",
       "      <td>4</td>\n",
       "      <td>40</td>\n",
       "      <td>400</td>\n",
       "    </tr>\n",
       "    <tr>\n",
       "      <th>r1</th>\n",
       "      <td>3</td>\n",
       "      <td>30</td>\n",
       "      <td>300</td>\n",
       "    </tr>\n",
       "  </tbody>\n",
       "</table>\n",
       "</div>"
      ],
      "text/plain": [
       "    c0  c1   c2\n",
       "r0   4  40  400\n",
       "r1   3  30  300"
      ]
     },
     "execution_count": 14,
     "metadata": {},
     "output_type": "execute_result"
    }
   ],
   "source": [
    "# 이런 식으로 특정 row만 가져올 수도 있다\n",
    "d_d.iloc[:2]"
   ]
  },
  {
   "cell_type": "code",
   "execution_count": 15,
   "metadata": {},
   "outputs": [
    {
     "data": {
      "text/html": [
       "<div>\n",
       "<style scoped>\n",
       "    .dataframe tbody tr th:only-of-type {\n",
       "        vertical-align: middle;\n",
       "    }\n",
       "\n",
       "    .dataframe tbody tr th {\n",
       "        vertical-align: top;\n",
       "    }\n",
       "\n",
       "    .dataframe thead th {\n",
       "        text-align: right;\n",
       "    }\n",
       "</style>\n",
       "<table border=\"1\" class=\"dataframe\">\n",
       "  <thead>\n",
       "    <tr style=\"text-align: right;\">\n",
       "      <th></th>\n",
       "      <th>c1</th>\n",
       "      <th>c2</th>\n",
       "    </tr>\n",
       "  </thead>\n",
       "  <tbody>\n",
       "    <tr>\n",
       "      <th>r1</th>\n",
       "      <td>30</td>\n",
       "      <td>300</td>\n",
       "    </tr>\n",
       "  </tbody>\n",
       "</table>\n",
       "</div>"
      ],
      "text/plain": [
       "    c1   c2\n",
       "r1  30  300"
      ]
     },
     "execution_count": 15,
     "metadata": {},
     "output_type": "execute_result"
    }
   ],
   "source": [
    "# 혹은 이런 식으로 특정 row, 특정 col만 가져올 수도 있다\n",
    "d_d.iloc[[1],[1,2]]"
   ]
  }
 ],
 "metadata": {
  "kernelspec": {
   "display_name": "tf",
   "language": "python",
   "name": "python3"
  },
  "language_info": {
   "codemirror_mode": {
    "name": "ipython",
    "version": 3
   },
   "file_extension": ".py",
   "mimetype": "text/x-python",
   "name": "python",
   "nbconvert_exporter": "python",
   "pygments_lexer": "ipython3",
   "version": "3.9.17"
  },
  "orig_nbformat": 4
 },
 "nbformat": 4,
 "nbformat_minor": 2
}
