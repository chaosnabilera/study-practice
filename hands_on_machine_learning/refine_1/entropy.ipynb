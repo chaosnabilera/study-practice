{
 "cells": [
  {
   "cell_type": "markdown",
   "metadata": {},
   "source": [
    "# Entropy\n",
    "\n",
    "\\begin{equation}\n",
    "H(x) = -\\sum_{x∈X} p(x)\\log p(x)\n",
    "\\end{equation}\n",
    "\n",
    "이게 사실은\n",
    "\n",
    "\\begin{equation}\n",
    "H(x) = p(x)\\log \\frac{1}{p(x)}\n",
    "\\end{equation}\n",
    "\n",
    "즉\n",
    "\n",
    "\\begin{equation}\n",
    "H(x) = p(x)\\log p(x)^{-1}\n",
    "\\end{equation}\n",
    "\n",
    "이걸 다 더한거라고 생각하는게 더 이해하기 편하다. log에서 제곱은 앞으로 가져올 수 있다는 사실을 설마 까먹진 않겠지?\n",
    "\n"
   ]
  },
  {
   "cell_type": "markdown",
   "metadata": {},
   "source": []
  }
 ],
 "metadata": {
  "language_info": {
   "name": "python"
  },
  "orig_nbformat": 4
 },
 "nbformat": 4,
 "nbformat_minor": 2
}
