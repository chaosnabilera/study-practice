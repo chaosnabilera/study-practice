{
 "cells": [
  {
   "attachments": {},
   "cell_type": "markdown",
   "metadata": {},
   "source": [
    "# Multiclass Classification\n",
    "- One vs All (=One vs Rest)\n",
    "    - 'X인 것과 X가 아닌 것'으로 classify한다\n",
    "    - Class가 N개라면 N개의 OvR classfier를 training한 후 어느 classifier가 가장 높은 점수를 기록했는지 보는 식으로 classify한다\n",
    "- One vs One\n",
    "    - 'A는 X, B는 Y'라는 식으로 classify한다\n",
    "    - 따라서 class가 N개라면 classifier는 N(N-1)/2 개를 training해야 한다 (permutation이 그정도 있으니까)\n",
    "    - 책에 그렇다고 나와 있지는 않지만 사실상 비교하는 두 대상을 동시에 classify해서 어느게 가장 설득력 높은 classification인지 보는 식인것 같다\n",
    "    - 이렇게 할 경우 각 permutation (X,Y)는 X인 data, Y인 data들만 가지고 learning할 수 있기 때문에 하나하나의 learning 시간은 줄어든다\n",
    "        - 근데 이렇게 해도 결국엔 N(N-1)/2개를 training해야 하는 거니까 시간적으로 도움이 되는 건지는 잘 모르겠다. 아마 데이터 숫자가 skew되어 있을 수록 (class간 input data숫자의 차이가 클수록) 좀 더 효율적이 되는것일 것 같기도 "
   ]
  },
  {
   "cell_type": "code",
   "execution_count": 1,
   "metadata": {},
   "outputs": [
    {
     "name": "stdout",
     "output_type": "stream",
     "text": [
      "output_dir : images\\end_to_end_project\n"
     ]
    },
    {
     "name": "stderr",
     "output_type": "stream",
     "text": [
      "c:\\Users\\ctint\\anaconda3\\lib\\site-packages\\sklearn\\datasets\\_openml.py:932: FutureWarning: The default value of `parser` will change from `'liac-arff'` to `'auto'` in 1.4. You can set `parser='auto'` to silence this warning. Therefore, an `ImportError` will be raised from 1.4 if the dataset is dense and pandas is not installed. Note that the pandas parser may return different data types. See the Notes Section in fetch_openml's API doc for details.\n",
      "  warn(\n"
     ]
    }
   ],
   "source": [
    "import matplotlib\n",
    "import matplotlib.pyplot\n",
    "import pathlib\n",
    "import sklearn.datasets\n",
    "import sklearn.linear_model\n",
    "import sklearn.model_selection\n",
    "\n",
    "matplotlib.pyplot.rc('font', size=14)\n",
    "matplotlib.pyplot.rc('axes', labelsize=14, titlesize=14)\n",
    "matplotlib.pyplot.rc('legend', fontsize=14)\n",
    "matplotlib.pyplot.rc('xtick', labelsize=10)\n",
    "matplotlib.pyplot.rc('ytick', labelsize=10)\n",
    "\n",
    "output_dir = pathlib.Path() / \"images\" / \"end_to_end_project\"\n",
    "output_dir.mkdir(parents=True, exist_ok=True)\n",
    "print(f'output_dir : {output_dir}')\n",
    "\n",
    "def matplotlib_to_imagefile(output_dir, filename, imgext=\"png\", tight_layout=True, resolution=300):\n",
    "    path = output_dir / f\"{filename}.{imgext}\"\n",
    "    if tight_layout:\n",
    "        matplotlib.pyplot.tight_layout()\n",
    "    matplotlib.pyplot.savefig(path, format=imgext, dpi=resolution)\n",
    "\n",
    "# 28 * 28 = 784\n",
    "def plot_digit(vec_784):\n",
    "    image = vec_784.reshape(28, 28)\n",
    "    matplotlib.pyplot.imshow(image, cmap='binary')\n",
    "    matplotlib.pyplot.axis('off')\n",
    "\n",
    "\n",
    "dataset_save_dir = pathlib.Path(\"datasets\")\n",
    "mnist = sklearn.datasets.fetch_openml('mnist_784', data_home=dataset_save_dir, as_frame=False)\n",
    "X, y = mnist.data, mnist.target\n",
    "X_train, X_test, y_train, y_test = sklearn.model_selection.train_test_split(X, y, test_size = 0.1, stratify = y)\n"
   ]
  },
  {
   "cell_type": "code",
   "execution_count": 2,
   "metadata": {},
   "outputs": [
    {
     "data": {
      "text/html": [
       "<style>#sk-container-id-1 {color: black;background-color: white;}#sk-container-id-1 pre{padding: 0;}#sk-container-id-1 div.sk-toggleable {background-color: white;}#sk-container-id-1 label.sk-toggleable__label {cursor: pointer;display: block;width: 100%;margin-bottom: 0;padding: 0.3em;box-sizing: border-box;text-align: center;}#sk-container-id-1 label.sk-toggleable__label-arrow:before {content: \"▸\";float: left;margin-right: 0.25em;color: #696969;}#sk-container-id-1 label.sk-toggleable__label-arrow:hover:before {color: black;}#sk-container-id-1 div.sk-estimator:hover label.sk-toggleable__label-arrow:before {color: black;}#sk-container-id-1 div.sk-toggleable__content {max-height: 0;max-width: 0;overflow: hidden;text-align: left;background-color: #f0f8ff;}#sk-container-id-1 div.sk-toggleable__content pre {margin: 0.2em;color: black;border-radius: 0.25em;background-color: #f0f8ff;}#sk-container-id-1 input.sk-toggleable__control:checked~div.sk-toggleable__content {max-height: 200px;max-width: 100%;overflow: auto;}#sk-container-id-1 input.sk-toggleable__control:checked~label.sk-toggleable__label-arrow:before {content: \"▾\";}#sk-container-id-1 div.sk-estimator input.sk-toggleable__control:checked~label.sk-toggleable__label {background-color: #d4ebff;}#sk-container-id-1 div.sk-label input.sk-toggleable__control:checked~label.sk-toggleable__label {background-color: #d4ebff;}#sk-container-id-1 input.sk-hidden--visually {border: 0;clip: rect(1px 1px 1px 1px);clip: rect(1px, 1px, 1px, 1px);height: 1px;margin: -1px;overflow: hidden;padding: 0;position: absolute;width: 1px;}#sk-container-id-1 div.sk-estimator {font-family: monospace;background-color: #f0f8ff;border: 1px dotted black;border-radius: 0.25em;box-sizing: border-box;margin-bottom: 0.5em;}#sk-container-id-1 div.sk-estimator:hover {background-color: #d4ebff;}#sk-container-id-1 div.sk-parallel-item::after {content: \"\";width: 100%;border-bottom: 1px solid gray;flex-grow: 1;}#sk-container-id-1 div.sk-label:hover label.sk-toggleable__label {background-color: #d4ebff;}#sk-container-id-1 div.sk-serial::before {content: \"\";position: absolute;border-left: 1px solid gray;box-sizing: border-box;top: 0;bottom: 0;left: 50%;z-index: 0;}#sk-container-id-1 div.sk-serial {display: flex;flex-direction: column;align-items: center;background-color: white;padding-right: 0.2em;padding-left: 0.2em;position: relative;}#sk-container-id-1 div.sk-item {position: relative;z-index: 1;}#sk-container-id-1 div.sk-parallel {display: flex;align-items: stretch;justify-content: center;background-color: white;position: relative;}#sk-container-id-1 div.sk-item::before, #sk-container-id-1 div.sk-parallel-item::before {content: \"\";position: absolute;border-left: 1px solid gray;box-sizing: border-box;top: 0;bottom: 0;left: 50%;z-index: -1;}#sk-container-id-1 div.sk-parallel-item {display: flex;flex-direction: column;z-index: 1;position: relative;background-color: white;}#sk-container-id-1 div.sk-parallel-item:first-child::after {align-self: flex-end;width: 50%;}#sk-container-id-1 div.sk-parallel-item:last-child::after {align-self: flex-start;width: 50%;}#sk-container-id-1 div.sk-parallel-item:only-child::after {width: 0;}#sk-container-id-1 div.sk-dashed-wrapped {border: 1px dashed gray;margin: 0 0.4em 0.5em 0.4em;box-sizing: border-box;padding-bottom: 0.4em;background-color: white;}#sk-container-id-1 div.sk-label label {font-family: monospace;font-weight: bold;display: inline-block;line-height: 1.2em;}#sk-container-id-1 div.sk-label-container {text-align: center;}#sk-container-id-1 div.sk-container {/* jupyter's `normalize.less` sets `[hidden] { display: none; }` but bootstrap.min.css set `[hidden] { display: none !important; }` so we also need the `!important` here to be able to override the default hidden behavior on the sphinx rendered scikit-learn.org. See: https://github.com/scikit-learn/scikit-learn/issues/21755 */display: inline-block !important;position: relative;}#sk-container-id-1 div.sk-text-repr-fallback {display: none;}</style><div id=\"sk-container-id-1\" class=\"sk-top-container\"><div class=\"sk-text-repr-fallback\"><pre>SVC()</pre><b>In a Jupyter environment, please rerun this cell to show the HTML representation or trust the notebook. <br />On GitHub, the HTML representation is unable to render, please try loading this page with nbviewer.org.</b></div><div class=\"sk-container\" hidden><div class=\"sk-item\"><div class=\"sk-estimator sk-toggleable\"><input class=\"sk-toggleable__control sk-hidden--visually\" id=\"sk-estimator-id-1\" type=\"checkbox\" checked><label for=\"sk-estimator-id-1\" class=\"sk-toggleable__label sk-toggleable__label-arrow\">SVC</label><div class=\"sk-toggleable__content\"><pre>SVC()</pre></div></div></div></div></div>"
      ],
      "text/plain": [
       "SVC()"
      ]
     },
     "execution_count": 2,
     "metadata": {},
     "output_type": "execute_result"
    }
   ],
   "source": [
    "import sklearn.svm\n",
    "\n",
    "# SVM은 OvO 전략이라서 y_train_3이 아니고 그냥 y_train을 쓰는 모양?\n",
    "\n",
    "svm_clf = sklearn.svm.SVC()\n",
    "svm_clf.fit(X_train, y_train)  # y_train, not y_train_3"
   ]
  },
  {
   "cell_type": "code",
   "execution_count": 9,
   "metadata": {},
   "outputs": [
    {
     "name": "stdout",
     "output_type": "stream",
     "text": [
      "right_cnt : 9895/10000\n"
     ]
    }
   ],
   "source": [
    "right_cnt = 0\n",
    "\n",
    "for i in range(10000):\n",
    "    if svm_clf.predict([X_train[i]])[0] == y_train[i]:\n",
    "        right_cnt += 1\n",
    "\n",
    "print(f'right_cnt : {right_cnt}/10000')\n"
   ]
  },
  {
   "cell_type": "code",
   "execution_count": 12,
   "metadata": {},
   "outputs": [
    {
     "name": "stdout",
     "output_type": "stream",
     "text": [
      "[[-0.31558177  9.31537685  1.76145222  7.27674118  3.77007944  3.07914784\n",
      "   0.72958713  4.80966046  8.27997762  6.03946046]]\n"
     ]
    }
   ],
   "source": [
    "print(svm_clf.decision_function([X_train[0]]))"
   ]
  },
  {
   "cell_type": "code",
   "execution_count": null,
   "metadata": {},
   "outputs": [],
   "source": []
  }
 ],
 "metadata": {
  "kernelspec": {
   "display_name": "base",
   "language": "python",
   "name": "python3"
  },
  "language_info": {
   "codemirror_mode": {
    "name": "ipython",
    "version": 3
   },
   "file_extension": ".py",
   "mimetype": "text/x-python",
   "name": "python",
   "nbconvert_exporter": "python",
   "pygments_lexer": "ipython3",
   "version": "3.9.12"
  },
  "orig_nbformat": 4
 },
 "nbformat": 4,
 "nbformat_minor": 2
}
