{
 "cells": [
  {
   "attachments": {},
   "cell_type": "markdown",
   "metadata": {},
   "source": [
    "## Regularized Linear Models"
   ]
  },
  {
   "attachments": {},
   "cell_type": "markdown",
   "metadata": {},
   "source": [
    "### Ridge Regression\n",
    "- Training 할때 model weight를 가능한 낮게 잡아서 learning하게 만드는 방법\n",
    "    - Cost function에 model weight의 제곱 평균값을 더한다\n",
    "    - 즉 model weight가 커질수록 Cost도 높아지도록 만드는 것이다\n",
    "- 얼마나 model weight를 낮게 만들것인가 하는것은 $\\alpha$ 값의 조절에 의해 이루어진다\n",
    "- 책을 보면 $\\alpha$ 값이 커질수록 좀 더 단순한 모델로 fitting이 되는걸 볼 수 있다\n",
    "- `sklearn.linear_model.Ridge`에서 closed-form solution을 제공함"
   ]
  },
  {
   "attachments": {},
   "cell_type": "markdown",
   "metadata": {},
   "source": [
    "### Lasso Regression\n"
   ]
  },
  {
   "cell_type": "markdown",
   "metadata": {},
   "source": []
  }
 ],
 "metadata": {
  "language_info": {
   "name": "python"
  },
  "orig_nbformat": 4
 },
 "nbformat": 4,
 "nbformat_minor": 2
}
